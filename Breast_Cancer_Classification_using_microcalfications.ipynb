{
  "cells": [
    {
      "cell_type": "markdown",
      "metadata": {
        "id": "view-in-github",
        "colab_type": "text"
      },
      "source": [
        "<a href=\"https://colab.research.google.com/github/lamini-H/ML_Projects/blob/main/Breast_Cancer_Classification_using_microcalfications.ipynb\" target=\"_parent\"><img src=\"https://colab.research.google.com/assets/colab-badge.svg\" alt=\"Open In Colab\"/></a>"
      ]
    },
    {
      "cell_type": "markdown",
      "metadata": {
        "id": "q3JQ3f81LRko"
      },
      "source": [
        "##### Group Members\n",
        "* Harunah Lamini\n",
        "* Lani Xavierraj Tamilarasi Angel"
      ]
    },
    {
      "cell_type": "markdown",
      "metadata": {
        "id": "ZF5C-BxJLRkr"
      },
      "source": [
        "### Task One\n",
        "* Classify individual micros assuming all micros per subject have the same level\n",
        "<p>In this task we are using various techniques and process to classify the individual micros per subject</p>"
      ]
    },
    {
      "cell_type": "markdown",
      "metadata": {
        "id": "Uv5Wt9VrhUet"
      },
      "source": [
        "### Import relevant libraries"
      ]
    },
    {
      "cell_type": "code",
      "execution_count": null,
      "metadata": {
        "id": "alhbCqyVhUez"
      },
      "outputs": [],
      "source": [
        "#Import from the sklearn library\n",
        "from sklearn.metrics import classification_report,confusion_matrix, ConfusionMatrixDisplay\n",
        "from sklearn.model_selection import  GridSearchCV\n",
        "from sklearn.preprocessing import StandardScaler\n",
        "from sklearn.svm import SVC\n",
        "from sklearn.tree import DecisionTreeClassifier\n",
        "from sklearn.ensemble import RandomForestClassifier,AdaBoostClassifier\n"
      ]
    },
    {
      "cell_type": "markdown",
      "metadata": {
        "id": "EOxVHfe2hUe0"
      },
      "source": [
        "### Loading the dataset and showing 10 top records"
      ]
    },
    {
      "cell_type": "code",
      "execution_count": null,
      "metadata": {
        "colab": {
          "base_uri": "https://localhost:8080/",
          "height": 429
        },
        "id": "ZqcFr2BdhUe1",
        "outputId": "643ec259-4855-4409-a15d-2e18759fdbbc"
      },
      "outputs": [
        {
          "data": {
            "text/html": [
              "<div>\n",
              "<style scoped>\n",
              "    .dataframe tbody tr th:only-of-type {\n",
              "        vertical-align: middle;\n",
              "    }\n",
              "\n",
              "    .dataframe tbody tr th {\n",
              "        vertical-align: top;\n",
              "    }\n",
              "\n",
              "    .dataframe thead th {\n",
              "        text-align: right;\n",
              "    }\n",
              "</style>\n",
              "<table border=\"1\" class=\"dataframe\">\n",
              "  <thead>\n",
              "    <tr style=\"text-align: right;\">\n",
              "      <th></th>\n",
              "      <th>Patient ID</th>\n",
              "      <th>original_shape_Elongation</th>\n",
              "      <th>original_firstorder_Kurtosis</th>\n",
              "      <th>original_firstorder_Skewness</th>\n",
              "      <th>wavelet-LHL_glrlm_RunVariance</th>\n",
              "      <th>wavelet2-LHL_gldm_LargeDependenceEmphasis</th>\n",
              "      <th>wavelet2-LLH_gldm_LargeDependenceEmphasis</th>\n",
              "      <th>wavelet-LHL_gldm_LargeDependenceEmphasis</th>\n",
              "      <th>wavelet2-LHL_gldm_DependenceVariance</th>\n",
              "      <th>wavelet2-LHL_glrlm_RunVariance</th>\n",
              "      <th>...</th>\n",
              "      <th>wavelet-LLL_glszm_LargeAreaLowGrayLevelEmphasis</th>\n",
              "      <th>wavelet2-HHH_firstorder_RootMeanSquared</th>\n",
              "      <th>wavelet2-LLH_firstorder_Kurtosis</th>\n",
              "      <th>wavelet-HHL_glcm_Imc2</th>\n",
              "      <th>wavelet2-LHH_firstorder_RobustMeanAbsoluteDeviation</th>\n",
              "      <th>original_shape_SphericalDisproportion</th>\n",
              "      <th>wavelet2-HHL_glcm_Idmn</th>\n",
              "      <th>wavelet2-LHH_firstorder_RootMeanSquared</th>\n",
              "      <th>wavelet2-HLL_firstorder_Maximum</th>\n",
              "      <th>Label</th>\n",
              "    </tr>\n",
              "  </thead>\n",
              "  <tbody>\n",
              "    <tr>\n",
              "      <th>0</th>\n",
              "      <td>1</td>\n",
              "      <td>0.661690</td>\n",
              "      <td>2.817688</td>\n",
              "      <td>0.769536</td>\n",
              "      <td>7.257078</td>\n",
              "      <td>3381.734540</td>\n",
              "      <td>3715.077716</td>\n",
              "      <td>3546.818663</td>\n",
              "      <td>634.748331</td>\n",
              "      <td>6.682128</td>\n",
              "      <td>...</td>\n",
              "      <td>4005.210235</td>\n",
              "      <td>0.408974</td>\n",
              "      <td>2.949406</td>\n",
              "      <td>0.231474</td>\n",
              "      <td>0.473838</td>\n",
              "      <td>1.572473</td>\n",
              "      <td>0.983853</td>\n",
              "      <td>0.875074</td>\n",
              "      <td>142.866201</td>\n",
              "      <td>0</td>\n",
              "    </tr>\n",
              "    <tr>\n",
              "      <th>1</th>\n",
              "      <td>1</td>\n",
              "      <td>0.750849</td>\n",
              "      <td>2.084800</td>\n",
              "      <td>0.442780</td>\n",
              "      <td>3.137745</td>\n",
              "      <td>2653.808184</td>\n",
              "      <td>1443.697357</td>\n",
              "      <td>2297.305200</td>\n",
              "      <td>616.359443</td>\n",
              "      <td>4.095513</td>\n",
              "      <td>...</td>\n",
              "      <td>32.058217</td>\n",
              "      <td>0.282009</td>\n",
              "      <td>2.790798</td>\n",
              "      <td>0.010531</td>\n",
              "      <td>0.401979</td>\n",
              "      <td>1.178144</td>\n",
              "      <td>0.905124</td>\n",
              "      <td>0.696716</td>\n",
              "      <td>21.693040</td>\n",
              "      <td>0</td>\n",
              "    </tr>\n",
              "    <tr>\n",
              "      <th>2</th>\n",
              "      <td>1</td>\n",
              "      <td>0.619781</td>\n",
              "      <td>2.590759</td>\n",
              "      <td>0.384512</td>\n",
              "      <td>7.005413</td>\n",
              "      <td>3551.125894</td>\n",
              "      <td>3568.780890</td>\n",
              "      <td>3342.865490</td>\n",
              "      <td>426.661231</td>\n",
              "      <td>8.535867</td>\n",
              "      <td>...</td>\n",
              "      <td>63032.030210</td>\n",
              "      <td>0.442902</td>\n",
              "      <td>3.211156</td>\n",
              "      <td>0.276207</td>\n",
              "      <td>0.446076</td>\n",
              "      <td>1.615550</td>\n",
              "      <td>0.993054</td>\n",
              "      <td>0.832938</td>\n",
              "      <td>163.039718</td>\n",
              "      <td>0</td>\n",
              "    </tr>\n",
              "    <tr>\n",
              "      <th>3</th>\n",
              "      <td>2</td>\n",
              "      <td>0.388733</td>\n",
              "      <td>2.932863</td>\n",
              "      <td>0.738215</td>\n",
              "      <td>2.178815</td>\n",
              "      <td>1564.039548</td>\n",
              "      <td>1370.065913</td>\n",
              "      <td>1839.930320</td>\n",
              "      <td>318.122386</td>\n",
              "      <td>1.939531</td>\n",
              "      <td>...</td>\n",
              "      <td>147.649047</td>\n",
              "      <td>0.330143</td>\n",
              "      <td>3.054401</td>\n",
              "      <td>0.023870</td>\n",
              "      <td>0.399957</td>\n",
              "      <td>1.306885</td>\n",
              "      <td>0.911141</td>\n",
              "      <td>0.727764</td>\n",
              "      <td>22.979554</td>\n",
              "      <td>0</td>\n",
              "    </tr>\n",
              "    <tr>\n",
              "      <th>4</th>\n",
              "      <td>2</td>\n",
              "      <td>0.820531</td>\n",
              "      <td>2.814081</td>\n",
              "      <td>0.773252</td>\n",
              "      <td>1.316850</td>\n",
              "      <td>1377.981413</td>\n",
              "      <td>1005.602230</td>\n",
              "      <td>1164.799257</td>\n",
              "      <td>325.473446</td>\n",
              "      <td>1.726775</td>\n",
              "      <td>...</td>\n",
              "      <td>65.872763</td>\n",
              "      <td>0.278449</td>\n",
              "      <td>2.074076</td>\n",
              "      <td>0.016973</td>\n",
              "      <td>0.350459</td>\n",
              "      <td>1.165727</td>\n",
              "      <td>0.906515</td>\n",
              "      <td>0.606753</td>\n",
              "      <td>24.490320</td>\n",
              "      <td>0</td>\n",
              "    </tr>\n",
              "    <tr>\n",
              "      <th>5</th>\n",
              "      <td>2</td>\n",
              "      <td>0.874692</td>\n",
              "      <td>2.462236</td>\n",
              "      <td>0.680541</td>\n",
              "      <td>1.426304</td>\n",
              "      <td>626.982301</td>\n",
              "      <td>667.371681</td>\n",
              "      <td>1494.646018</td>\n",
              "      <td>150.352259</td>\n",
              "      <td>0.949001</td>\n",
              "      <td>...</td>\n",
              "      <td>10.258797</td>\n",
              "      <td>0.298587</td>\n",
              "      <td>2.383031</td>\n",
              "      <td>0.048223</td>\n",
              "      <td>0.807968</td>\n",
              "      <td>1.122239</td>\n",
              "      <td>0.986814</td>\n",
              "      <td>1.316034</td>\n",
              "      <td>54.286905</td>\n",
              "      <td>0</td>\n",
              "    </tr>\n",
              "    <tr>\n",
              "      <th>6</th>\n",
              "      <td>2</td>\n",
              "      <td>0.756070</td>\n",
              "      <td>2.299499</td>\n",
              "      <td>0.547184</td>\n",
              "      <td>4.974819</td>\n",
              "      <td>1649.686518</td>\n",
              "      <td>2489.158809</td>\n",
              "      <td>2918.393714</td>\n",
              "      <td>185.500663</td>\n",
              "      <td>2.795822</td>\n",
              "      <td>...</td>\n",
              "      <td>468.516203</td>\n",
              "      <td>0.464524</td>\n",
              "      <td>1.954110</td>\n",
              "      <td>0.433294</td>\n",
              "      <td>0.737680</td>\n",
              "      <td>1.147527</td>\n",
              "      <td>0.954221</td>\n",
              "      <td>1.280451</td>\n",
              "      <td>252.052123</td>\n",
              "      <td>0</td>\n",
              "    </tr>\n",
              "    <tr>\n",
              "      <th>7</th>\n",
              "      <td>2</td>\n",
              "      <td>0.953401</td>\n",
              "      <td>1.715593</td>\n",
              "      <td>-0.142132</td>\n",
              "      <td>13.807245</td>\n",
              "      <td>3829.905652</td>\n",
              "      <td>3711.877436</td>\n",
              "      <td>4622.891015</td>\n",
              "      <td>680.628601</td>\n",
              "      <td>10.396367</td>\n",
              "      <td>...</td>\n",
              "      <td>64.302369</td>\n",
              "      <td>0.442847</td>\n",
              "      <td>7.892000</td>\n",
              "      <td>0.038653</td>\n",
              "      <td>0.480786</td>\n",
              "      <td>1.134384</td>\n",
              "      <td>0.920320</td>\n",
              "      <td>0.886174</td>\n",
              "      <td>42.677596</td>\n",
              "      <td>0</td>\n",
              "    </tr>\n",
              "    <tr>\n",
              "      <th>8</th>\n",
              "      <td>2</td>\n",
              "      <td>0.938459</td>\n",
              "      <td>2.035770</td>\n",
              "      <td>0.397911</td>\n",
              "      <td>5.764751</td>\n",
              "      <td>3485.948749</td>\n",
              "      <td>4242.507995</td>\n",
              "      <td>3448.603116</td>\n",
              "      <td>691.792556</td>\n",
              "      <td>6.472380</td>\n",
              "      <td>...</td>\n",
              "      <td>89.642350</td>\n",
              "      <td>0.223507</td>\n",
              "      <td>3.176528</td>\n",
              "      <td>0.003641</td>\n",
              "      <td>0.277845</td>\n",
              "      <td>1.120847</td>\n",
              "      <td>0.906544</td>\n",
              "      <td>0.496345</td>\n",
              "      <td>27.547550</td>\n",
              "      <td>0</td>\n",
              "    </tr>\n",
              "    <tr>\n",
              "      <th>9</th>\n",
              "      <td>2</td>\n",
              "      <td>0.775092</td>\n",
              "      <td>2.470376</td>\n",
              "      <td>0.620126</td>\n",
              "      <td>5.745504</td>\n",
              "      <td>1775.190018</td>\n",
              "      <td>4587.354781</td>\n",
              "      <td>3403.459411</td>\n",
              "      <td>426.494206</td>\n",
              "      <td>2.442605</td>\n",
              "      <td>...</td>\n",
              "      <td>208.423462</td>\n",
              "      <td>0.389967</td>\n",
              "      <td>7.967226</td>\n",
              "      <td>0.052857</td>\n",
              "      <td>0.379628</td>\n",
              "      <td>1.188285</td>\n",
              "      <td>0.925587</td>\n",
              "      <td>0.680251</td>\n",
              "      <td>70.192238</td>\n",
              "      <td>0</td>\n",
              "    </tr>\n",
              "  </tbody>\n",
              "</table>\n",
              "<p>10 rows × 152 columns</p>\n",
              "</div>"
            ],
            "text/plain": [
              "   Patient ID  original_shape_Elongation  original_firstorder_Kurtosis  \\\n",
              "0           1                   0.661690                      2.817688   \n",
              "1           1                   0.750849                      2.084800   \n",
              "2           1                   0.619781                      2.590759   \n",
              "3           2                   0.388733                      2.932863   \n",
              "4           2                   0.820531                      2.814081   \n",
              "5           2                   0.874692                      2.462236   \n",
              "6           2                   0.756070                      2.299499   \n",
              "7           2                   0.953401                      1.715593   \n",
              "8           2                   0.938459                      2.035770   \n",
              "9           2                   0.775092                      2.470376   \n",
              "\n",
              "   original_firstorder_Skewness  wavelet-LHL_glrlm_RunVariance  \\\n",
              "0                      0.769536                       7.257078   \n",
              "1                      0.442780                       3.137745   \n",
              "2                      0.384512                       7.005413   \n",
              "3                      0.738215                       2.178815   \n",
              "4                      0.773252                       1.316850   \n",
              "5                      0.680541                       1.426304   \n",
              "6                      0.547184                       4.974819   \n",
              "7                     -0.142132                      13.807245   \n",
              "8                      0.397911                       5.764751   \n",
              "9                      0.620126                       5.745504   \n",
              "\n",
              "   wavelet2-LHL_gldm_LargeDependenceEmphasis  \\\n",
              "0                                3381.734540   \n",
              "1                                2653.808184   \n",
              "2                                3551.125894   \n",
              "3                                1564.039548   \n",
              "4                                1377.981413   \n",
              "5                                 626.982301   \n",
              "6                                1649.686518   \n",
              "7                                3829.905652   \n",
              "8                                3485.948749   \n",
              "9                                1775.190018   \n",
              "\n",
              "   wavelet2-LLH_gldm_LargeDependenceEmphasis  \\\n",
              "0                                3715.077716   \n",
              "1                                1443.697357   \n",
              "2                                3568.780890   \n",
              "3                                1370.065913   \n",
              "4                                1005.602230   \n",
              "5                                 667.371681   \n",
              "6                                2489.158809   \n",
              "7                                3711.877436   \n",
              "8                                4242.507995   \n",
              "9                                4587.354781   \n",
              "\n",
              "   wavelet-LHL_gldm_LargeDependenceEmphasis  \\\n",
              "0                               3546.818663   \n",
              "1                               2297.305200   \n",
              "2                               3342.865490   \n",
              "3                               1839.930320   \n",
              "4                               1164.799257   \n",
              "5                               1494.646018   \n",
              "6                               2918.393714   \n",
              "7                               4622.891015   \n",
              "8                               3448.603116   \n",
              "9                               3403.459411   \n",
              "\n",
              "   wavelet2-LHL_gldm_DependenceVariance  wavelet2-LHL_glrlm_RunVariance  ...  \\\n",
              "0                            634.748331                        6.682128  ...   \n",
              "1                            616.359443                        4.095513  ...   \n",
              "2                            426.661231                        8.535867  ...   \n",
              "3                            318.122386                        1.939531  ...   \n",
              "4                            325.473446                        1.726775  ...   \n",
              "5                            150.352259                        0.949001  ...   \n",
              "6                            185.500663                        2.795822  ...   \n",
              "7                            680.628601                       10.396367  ...   \n",
              "8                            691.792556                        6.472380  ...   \n",
              "9                            426.494206                        2.442605  ...   \n",
              "\n",
              "   wavelet-LLL_glszm_LargeAreaLowGrayLevelEmphasis  \\\n",
              "0                                      4005.210235   \n",
              "1                                        32.058217   \n",
              "2                                     63032.030210   \n",
              "3                                       147.649047   \n",
              "4                                        65.872763   \n",
              "5                                        10.258797   \n",
              "6                                       468.516203   \n",
              "7                                        64.302369   \n",
              "8                                        89.642350   \n",
              "9                                       208.423462   \n",
              "\n",
              "   wavelet2-HHH_firstorder_RootMeanSquared  wavelet2-LLH_firstorder_Kurtosis  \\\n",
              "0                                 0.408974                          2.949406   \n",
              "1                                 0.282009                          2.790798   \n",
              "2                                 0.442902                          3.211156   \n",
              "3                                 0.330143                          3.054401   \n",
              "4                                 0.278449                          2.074076   \n",
              "5                                 0.298587                          2.383031   \n",
              "6                                 0.464524                          1.954110   \n",
              "7                                 0.442847                          7.892000   \n",
              "8                                 0.223507                          3.176528   \n",
              "9                                 0.389967                          7.967226   \n",
              "\n",
              "   wavelet-HHL_glcm_Imc2  wavelet2-LHH_firstorder_RobustMeanAbsoluteDeviation  \\\n",
              "0               0.231474                                           0.473838     \n",
              "1               0.010531                                           0.401979     \n",
              "2               0.276207                                           0.446076     \n",
              "3               0.023870                                           0.399957     \n",
              "4               0.016973                                           0.350459     \n",
              "5               0.048223                                           0.807968     \n",
              "6               0.433294                                           0.737680     \n",
              "7               0.038653                                           0.480786     \n",
              "8               0.003641                                           0.277845     \n",
              "9               0.052857                                           0.379628     \n",
              "\n",
              "   original_shape_SphericalDisproportion  wavelet2-HHL_glcm_Idmn  \\\n",
              "0                               1.572473                0.983853   \n",
              "1                               1.178144                0.905124   \n",
              "2                               1.615550                0.993054   \n",
              "3                               1.306885                0.911141   \n",
              "4                               1.165727                0.906515   \n",
              "5                               1.122239                0.986814   \n",
              "6                               1.147527                0.954221   \n",
              "7                               1.134384                0.920320   \n",
              "8                               1.120847                0.906544   \n",
              "9                               1.188285                0.925587   \n",
              "\n",
              "   wavelet2-LHH_firstorder_RootMeanSquared  wavelet2-HLL_firstorder_Maximum  \\\n",
              "0                                 0.875074                       142.866201   \n",
              "1                                 0.696716                        21.693040   \n",
              "2                                 0.832938                       163.039718   \n",
              "3                                 0.727764                        22.979554   \n",
              "4                                 0.606753                        24.490320   \n",
              "5                                 1.316034                        54.286905   \n",
              "6                                 1.280451                       252.052123   \n",
              "7                                 0.886174                        42.677596   \n",
              "8                                 0.496345                        27.547550   \n",
              "9                                 0.680251                        70.192238   \n",
              "\n",
              "   Label  \n",
              "0      0  \n",
              "1      0  \n",
              "2      0  \n",
              "3      0  \n",
              "4      0  \n",
              "5      0  \n",
              "6      0  \n",
              "7      0  \n",
              "8      0  \n",
              "9      0  \n",
              "\n",
              "[10 rows x 152 columns]"
            ]
          },
          "execution_count": 30,
          "metadata": {},
          "output_type": "execute_result"
        }
      ],
      "source": [
        "path = 'brestdataset.csv' #path of the dateset in the directory\n",
        "raw_data = pd.read_csv(path) # Reading the dataset using pandas\n",
        "raw_data.head(10) #showing top 10 rows of teh dataset"
      ]
    },
    {
      "cell_type": "markdown",
      "metadata": {
        "id": "hVhNrDaZhUe2"
      },
      "source": [
        "### Describing the dataset and some statistics of the dataset"
      ]
    },
    {
      "cell_type": "code",
      "execution_count": null,
      "metadata": {
        "id": "fMWt_5RO27O5",
        "outputId": "97a0861b-7b32-4429-ff87-650ca5542dea"
      },
      "outputs": [
        {
          "name": "stdout",
          "output_type": "stream",
          "text": [
            "<class 'pandas.core.frame.DataFrame'>\n",
            "RangeIndex: 3562 entries, 0 to 3561\n",
            "Columns: 152 entries, Patient ID to Label\n",
            "dtypes: float64(150), int64(2)\n",
            "memory usage: 4.1 MB\n"
          ]
        }
      ],
      "source": [
        "#Getting information about the data which includes datatypes, number of entries memory usage\n",
        "raw_data.info()"
      ]
    },
    {
      "cell_type": "code",
      "execution_count": null,
      "metadata": {
        "colab": {
          "base_uri": "https://localhost:8080/",
          "height": 367
        },
        "id": "Jj8rhSGHhUe3",
        "outputId": "f04dddb4-90c9-4adc-b366-f10cd3d6b910"
      },
      "outputs": [
        {
          "data": {
            "text/html": [
              "<div>\n",
              "<style scoped>\n",
              "    .dataframe tbody tr th:only-of-type {\n",
              "        vertical-align: middle;\n",
              "    }\n",
              "\n",
              "    .dataframe tbody tr th {\n",
              "        vertical-align: top;\n",
              "    }\n",
              "\n",
              "    .dataframe thead th {\n",
              "        text-align: right;\n",
              "    }\n",
              "</style>\n",
              "<table border=\"1\" class=\"dataframe\">\n",
              "  <thead>\n",
              "    <tr style=\"text-align: right;\">\n",
              "      <th></th>\n",
              "      <th>Patient ID</th>\n",
              "      <th>original_shape_Elongation</th>\n",
              "      <th>original_firstorder_Kurtosis</th>\n",
              "      <th>original_firstorder_Skewness</th>\n",
              "      <th>wavelet-LHL_glrlm_RunVariance</th>\n",
              "      <th>wavelet2-LHL_gldm_LargeDependenceEmphasis</th>\n",
              "      <th>wavelet2-LLH_gldm_LargeDependenceEmphasis</th>\n",
              "      <th>wavelet-LHL_gldm_LargeDependenceEmphasis</th>\n",
              "      <th>wavelet2-LHL_gldm_DependenceVariance</th>\n",
              "      <th>wavelet2-LHL_glrlm_RunVariance</th>\n",
              "      <th>...</th>\n",
              "      <th>wavelet-LLL_glszm_LargeAreaLowGrayLevelEmphasis</th>\n",
              "      <th>wavelet2-HHH_firstorder_RootMeanSquared</th>\n",
              "      <th>wavelet2-LLH_firstorder_Kurtosis</th>\n",
              "      <th>wavelet-HHL_glcm_Imc2</th>\n",
              "      <th>wavelet2-LHH_firstorder_RobustMeanAbsoluteDeviation</th>\n",
              "      <th>original_shape_SphericalDisproportion</th>\n",
              "      <th>wavelet2-HHL_glcm_Idmn</th>\n",
              "      <th>wavelet2-LHH_firstorder_RootMeanSquared</th>\n",
              "      <th>wavelet2-HLL_firstorder_Maximum</th>\n",
              "      <th>Label</th>\n",
              "    </tr>\n",
              "  </thead>\n",
              "  <tbody>\n",
              "    <tr>\n",
              "      <th>count</th>\n",
              "      <td>3562.000000</td>\n",
              "      <td>3562.000000</td>\n",
              "      <td>3562.000000</td>\n",
              "      <td>3562.000000</td>\n",
              "      <td>3562.000000</td>\n",
              "      <td>3562.000000</td>\n",
              "      <td>3562.000000</td>\n",
              "      <td>3562.000000</td>\n",
              "      <td>3562.000000</td>\n",
              "      <td>3562.000000</td>\n",
              "      <td>...</td>\n",
              "      <td>3562.000000</td>\n",
              "      <td>3562.000000</td>\n",
              "      <td>3562.000000</td>\n",
              "      <td>3562.000000</td>\n",
              "      <td>3562.000000</td>\n",
              "      <td>3562.000000</td>\n",
              "      <td>3562.000000</td>\n",
              "      <td>3562.000000</td>\n",
              "      <td>3562.000000</td>\n",
              "      <td>3562.000000</td>\n",
              "    </tr>\n",
              "    <tr>\n",
              "      <th>mean</th>\n",
              "      <td>43.568782</td>\n",
              "      <td>0.666190</td>\n",
              "      <td>2.462975</td>\n",
              "      <td>0.590587</td>\n",
              "      <td>4.212117</td>\n",
              "      <td>1497.921542</td>\n",
              "      <td>1594.268004</td>\n",
              "      <td>2119.089859</td>\n",
              "      <td>271.458163</td>\n",
              "      <td>2.968610</td>\n",
              "      <td>...</td>\n",
              "      <td>263.808079</td>\n",
              "      <td>0.351824</td>\n",
              "      <td>3.164037</td>\n",
              "      <td>0.159556</td>\n",
              "      <td>0.458397</td>\n",
              "      <td>1.292847</td>\n",
              "      <td>0.931269</td>\n",
              "      <td>0.905466</td>\n",
              "      <td>73.400175</td>\n",
              "      <td>0.432903</td>\n",
              "    </tr>\n",
              "    <tr>\n",
              "      <th>std</th>\n",
              "      <td>24.574284</td>\n",
              "      <td>0.168063</td>\n",
              "      <td>0.546251</td>\n",
              "      <td>0.272699</td>\n",
              "      <td>4.286353</td>\n",
              "      <td>1289.535822</td>\n",
              "      <td>1387.119079</td>\n",
              "      <td>1528.700938</td>\n",
              "      <td>218.219184</td>\n",
              "      <td>3.454322</td>\n",
              "      <td>...</td>\n",
              "      <td>2184.304828</td>\n",
              "      <td>0.216732</td>\n",
              "      <td>1.182988</td>\n",
              "      <td>0.162182</td>\n",
              "      <td>0.243215</td>\n",
              "      <td>0.247532</td>\n",
              "      <td>0.035136</td>\n",
              "      <td>0.512119</td>\n",
              "      <td>81.520035</td>\n",
              "      <td>0.495547</td>\n",
              "    </tr>\n",
              "    <tr>\n",
              "      <th>min</th>\n",
              "      <td>1.000000</td>\n",
              "      <td>0.039069</td>\n",
              "      <td>0.000000</td>\n",
              "      <td>-1.005865</td>\n",
              "      <td>0.083283</td>\n",
              "      <td>1.000000</td>\n",
              "      <td>1.000000</td>\n",
              "      <td>1.000000</td>\n",
              "      <td>0.000000</td>\n",
              "      <td>0.054849</td>\n",
              "      <td>...</td>\n",
              "      <td>0.030881</td>\n",
              "      <td>0.058536</td>\n",
              "      <td>1.284810</td>\n",
              "      <td>0.000000</td>\n",
              "      <td>0.122810</td>\n",
              "      <td>0.907201</td>\n",
              "      <td>0.811843</td>\n",
              "      <td>0.234128</td>\n",
              "      <td>3.099939</td>\n",
              "      <td>0.000000</td>\n",
              "    </tr>\n",
              "    <tr>\n",
              "      <th>25%</th>\n",
              "      <td>28.000000</td>\n",
              "      <td>0.550945</td>\n",
              "      <td>2.153519</td>\n",
              "      <td>0.450615</td>\n",
              "      <td>0.963731</td>\n",
              "      <td>316.233814</td>\n",
              "      <td>327.236986</td>\n",
              "      <td>637.213037</td>\n",
              "      <td>54.969021</td>\n",
              "      <td>0.654501</td>\n",
              "      <td>...</td>\n",
              "      <td>10.276716</td>\n",
              "      <td>0.191192</td>\n",
              "      <td>2.531290</td>\n",
              "      <td>0.043387</td>\n",
              "      <td>0.322079</td>\n",
              "      <td>1.154897</td>\n",
              "      <td>0.902421</td>\n",
              "      <td>0.628734</td>\n",
              "      <td>22.119894</td>\n",
              "      <td>0.000000</td>\n",
              "    </tr>\n",
              "    <tr>\n",
              "      <th>50%</th>\n",
              "      <td>41.000000</td>\n",
              "      <td>0.677985</td>\n",
              "      <td>2.371766</td>\n",
              "      <td>0.580983</td>\n",
              "      <td>2.686606</td>\n",
              "      <td>1247.979233</td>\n",
              "      <td>1297.284496</td>\n",
              "      <td>2121.746770</td>\n",
              "      <td>249.695632</td>\n",
              "      <td>1.718228</td>\n",
              "      <td>...</td>\n",
              "      <td>31.876325</td>\n",
              "      <td>0.295743</td>\n",
              "      <td>2.917387</td>\n",
              "      <td>0.086336</td>\n",
              "      <td>0.410345</td>\n",
              "      <td>1.224399</td>\n",
              "      <td>0.920535</td>\n",
              "      <td>0.801215</td>\n",
              "      <td>35.270240</td>\n",
              "      <td>0.000000</td>\n",
              "    </tr>\n",
              "    <tr>\n",
              "      <th>75%</th>\n",
              "      <td>63.000000</td>\n",
              "      <td>0.793857</td>\n",
              "      <td>2.665746</td>\n",
              "      <td>0.726457</td>\n",
              "      <td>6.188729</td>\n",
              "      <td>2428.843419</td>\n",
              "      <td>2579.808868</td>\n",
              "      <td>3397.403762</td>\n",
              "      <td>453.547995</td>\n",
              "      <td>3.987678</td>\n",
              "      <td>...</td>\n",
              "      <td>111.915767</td>\n",
              "      <td>0.468013</td>\n",
              "      <td>3.432697</td>\n",
              "      <td>0.248412</td>\n",
              "      <td>0.530553</td>\n",
              "      <td>1.356257</td>\n",
              "      <td>0.962220</td>\n",
              "      <td>1.035546</td>\n",
              "      <td>102.038460</td>\n",
              "      <td>1.000000</td>\n",
              "    </tr>\n",
              "    <tr>\n",
              "      <th>max</th>\n",
              "      <td>96.000000</td>\n",
              "      <td>1.000000</td>\n",
              "      <td>8.111111</td>\n",
              "      <td>2.666667</td>\n",
              "      <td>29.198575</td>\n",
              "      <td>6454.319835</td>\n",
              "      <td>6484.443965</td>\n",
              "      <td>6308.111352</td>\n",
              "      <td>913.448742</td>\n",
              "      <td>31.799360</td>\n",
              "      <td>...</td>\n",
              "      <td>99073.022880</td>\n",
              "      <td>2.957963</td>\n",
              "      <td>22.889047</td>\n",
              "      <td>0.929873</td>\n",
              "      <td>5.265915</td>\n",
              "      <td>3.486119</td>\n",
              "      <td>1.000000</td>\n",
              "      <td>9.730689</td>\n",
              "      <td>675.982582</td>\n",
              "      <td>1.000000</td>\n",
              "    </tr>\n",
              "  </tbody>\n",
              "</table>\n",
              "<p>8 rows × 152 columns</p>\n",
              "</div>"
            ],
            "text/plain": [
              "        Patient ID  original_shape_Elongation  original_firstorder_Kurtosis  \\\n",
              "count  3562.000000                3562.000000                   3562.000000   \n",
              "mean     43.568782                   0.666190                      2.462975   \n",
              "std      24.574284                   0.168063                      0.546251   \n",
              "min       1.000000                   0.039069                      0.000000   \n",
              "25%      28.000000                   0.550945                      2.153519   \n",
              "50%      41.000000                   0.677985                      2.371766   \n",
              "75%      63.000000                   0.793857                      2.665746   \n",
              "max      96.000000                   1.000000                      8.111111   \n",
              "\n",
              "       original_firstorder_Skewness  wavelet-LHL_glrlm_RunVariance  \\\n",
              "count                   3562.000000                    3562.000000   \n",
              "mean                       0.590587                       4.212117   \n",
              "std                        0.272699                       4.286353   \n",
              "min                       -1.005865                       0.083283   \n",
              "25%                        0.450615                       0.963731   \n",
              "50%                        0.580983                       2.686606   \n",
              "75%                        0.726457                       6.188729   \n",
              "max                        2.666667                      29.198575   \n",
              "\n",
              "       wavelet2-LHL_gldm_LargeDependenceEmphasis  \\\n",
              "count                                3562.000000   \n",
              "mean                                 1497.921542   \n",
              "std                                  1289.535822   \n",
              "min                                     1.000000   \n",
              "25%                                   316.233814   \n",
              "50%                                  1247.979233   \n",
              "75%                                  2428.843419   \n",
              "max                                  6454.319835   \n",
              "\n",
              "       wavelet2-LLH_gldm_LargeDependenceEmphasis  \\\n",
              "count                                3562.000000   \n",
              "mean                                 1594.268004   \n",
              "std                                  1387.119079   \n",
              "min                                     1.000000   \n",
              "25%                                   327.236986   \n",
              "50%                                  1297.284496   \n",
              "75%                                  2579.808868   \n",
              "max                                  6484.443965   \n",
              "\n",
              "       wavelet-LHL_gldm_LargeDependenceEmphasis  \\\n",
              "count                               3562.000000   \n",
              "mean                                2119.089859   \n",
              "std                                 1528.700938   \n",
              "min                                    1.000000   \n",
              "25%                                  637.213037   \n",
              "50%                                 2121.746770   \n",
              "75%                                 3397.403762   \n",
              "max                                 6308.111352   \n",
              "\n",
              "       wavelet2-LHL_gldm_DependenceVariance  wavelet2-LHL_glrlm_RunVariance  \\\n",
              "count                           3562.000000                     3562.000000   \n",
              "mean                             271.458163                        2.968610   \n",
              "std                              218.219184                        3.454322   \n",
              "min                                0.000000                        0.054849   \n",
              "25%                               54.969021                        0.654501   \n",
              "50%                              249.695632                        1.718228   \n",
              "75%                              453.547995                        3.987678   \n",
              "max                              913.448742                       31.799360   \n",
              "\n",
              "       ...  wavelet-LLL_glszm_LargeAreaLowGrayLevelEmphasis  \\\n",
              "count  ...                                      3562.000000   \n",
              "mean   ...                                       263.808079   \n",
              "std    ...                                      2184.304828   \n",
              "min    ...                                         0.030881   \n",
              "25%    ...                                        10.276716   \n",
              "50%    ...                                        31.876325   \n",
              "75%    ...                                       111.915767   \n",
              "max    ...                                     99073.022880   \n",
              "\n",
              "       wavelet2-HHH_firstorder_RootMeanSquared  \\\n",
              "count                              3562.000000   \n",
              "mean                                  0.351824   \n",
              "std                                   0.216732   \n",
              "min                                   0.058536   \n",
              "25%                                   0.191192   \n",
              "50%                                   0.295743   \n",
              "75%                                   0.468013   \n",
              "max                                   2.957963   \n",
              "\n",
              "       wavelet2-LLH_firstorder_Kurtosis  wavelet-HHL_glcm_Imc2  \\\n",
              "count                       3562.000000            3562.000000   \n",
              "mean                           3.164037               0.159556   \n",
              "std                            1.182988               0.162182   \n",
              "min                            1.284810               0.000000   \n",
              "25%                            2.531290               0.043387   \n",
              "50%                            2.917387               0.086336   \n",
              "75%                            3.432697               0.248412   \n",
              "max                           22.889047               0.929873   \n",
              "\n",
              "       wavelet2-LHH_firstorder_RobustMeanAbsoluteDeviation  \\\n",
              "count                                        3562.000000     \n",
              "mean                                            0.458397     \n",
              "std                                             0.243215     \n",
              "min                                             0.122810     \n",
              "25%                                             0.322079     \n",
              "50%                                             0.410345     \n",
              "75%                                             0.530553     \n",
              "max                                             5.265915     \n",
              "\n",
              "       original_shape_SphericalDisproportion  wavelet2-HHL_glcm_Idmn  \\\n",
              "count                            3562.000000             3562.000000   \n",
              "mean                                1.292847                0.931269   \n",
              "std                                 0.247532                0.035136   \n",
              "min                                 0.907201                0.811843   \n",
              "25%                                 1.154897                0.902421   \n",
              "50%                                 1.224399                0.920535   \n",
              "75%                                 1.356257                0.962220   \n",
              "max                                 3.486119                1.000000   \n",
              "\n",
              "       wavelet2-LHH_firstorder_RootMeanSquared  \\\n",
              "count                              3562.000000   \n",
              "mean                                  0.905466   \n",
              "std                                   0.512119   \n",
              "min                                   0.234128   \n",
              "25%                                   0.628734   \n",
              "50%                                   0.801215   \n",
              "75%                                   1.035546   \n",
              "max                                   9.730689   \n",
              "\n",
              "       wavelet2-HLL_firstorder_Maximum        Label  \n",
              "count                      3562.000000  3562.000000  \n",
              "mean                         73.400175     0.432903  \n",
              "std                          81.520035     0.495547  \n",
              "min                           3.099939     0.000000  \n",
              "25%                          22.119894     0.000000  \n",
              "50%                          35.270240     0.000000  \n",
              "75%                         102.038460     1.000000  \n",
              "max                         675.982582     1.000000  \n",
              "\n",
              "[8 rows x 152 columns]"
            ]
          },
          "execution_count": 32,
          "metadata": {},
          "output_type": "execute_result"
        }
      ],
      "source": [
        "#Describing the statistical information of the data\n",
        "raw_data.describe()"
      ]
    },
    {
      "cell_type": "markdown",
      "metadata": {
        "id": "BeQAvs7ThUe3"
      },
      "source": []
    },
    {
      "cell_type": "markdown",
      "metadata": {
        "id": "MscEgN5ceqBX"
      },
      "source": [
        "# Data Preprocessing and preparation for machine learning"
      ]
    },
    {
      "cell_type": "markdown",
      "metadata": {
        "id": "4jmjHXsD27O8"
      },
      "source": [
        "To begin with our data preparation, we check how the dataset is balanced according to the Labels (Malinagnet and Benign). We count and plot the Malignent and Benign cases in the dataset as shown below\n"
      ]
    },
    {
      "cell_type": "code",
      "execution_count": null,
      "metadata": {
        "id": "yxMKSG3I27O8",
        "outputId": "2003bc15-b3b9-4dc3-c56e-873e7f67a740"
      },
      "outputs": [
        {
          "data": {
            "image/png": "[encoded data removed]",
            "text/plain": [
              "<Figure size 640x480 with 1 Axes>"
            ]
          },
          "metadata": {},
          "output_type": "display_data"
        }
      ],
      "source": [
        "#visualizing how the data is balance using seaborn\n",
        "sns.countplot(x='Label', data=raw_data, hue='Label')\n",
        "value_counts = raw_data['Label'].value_counts()\n",
        "for i, count in enumerate(value_counts):\n",
        "                  plt.text(i, count, str(count), ha='center', va='bottom')\n",
        "plt.show()"
      ]
    },
    {
      "cell_type": "markdown",
      "metadata": {
        "id": "BaQhj_TULRkw"
      },
      "source": [
        "<p>We observed from the above plot that, there is a quit a challenge as the dataset is not balanced.The are 478 representing 13.4% more cases of the Benign as compare to the Malignent cases.</p>\n"
      ]
    },
    {
      "cell_type": "markdown",
      "metadata": {
        "id": "dcWQ7Bfz27O9"
      },
      "source": [
        "In other to ensure true independence of the dataset such that, each set (training, validation and testing ) have only one patient we use  this <a href=\"https://scikit-learn.org/stable/modules/generated/sklearn.model_selection.GroupShuffleSplit.html\">function</a> found in scikit-learn library and reading <a href=\"https://www.kaggle.com/discussions/general/448072\">this article</a> from kaggle\n",
        "\n",
        "The GroupShuffleSplit serve our purpose well as per the article in kaggle it is useful if you want to split data that contain groups of related entries that should not be mixed across training and testing sets."
      ]
    },
    {
      "cell_type": "code",
      "execution_count": null,
      "metadata": {
        "colab": {
          "base_uri": "https://localhost:8080/"
        },
        "id": "uEPIYMdGLRkx",
        "outputId": "9a843bba-5c3d-47f4-ab7a-b41c040d4169"
      },
      "outputs": [
        {
          "name": "stdout",
          "output_type": "stream",
          "text": [
            "Training Data\n",
            "(2507, 152)\n",
            "\n",
            "Testing Data\n",
            "(1055, 152)\n"
          ]
        }
      ],
      "source": [
        "#importing GroupShuffleSplit class from sklearn\n",
        "from sklearn.model_selection import GroupShuffleSplit\n",
        "#create an instance of the GroupShufflesSplit\n",
        "# n_splits=1 specifies the number of re-shuffling and spliting iterations\n",
        "# 30% is reserved for the testing set, and the rest will be used for training\n",
        "# the group parameter ensures that all records belonging to the same group(ie. patient id)\n",
        "#is entirely in either the training set or the testing set, but not both.\n",
        "group_split = GroupShuffleSplit(n_splits=1, test_size=0.3, random_state=42)\n",
        "\n",
        "#Split data the on the patient level\n",
        "for train, test in group_split.split(raw_data, groups= raw_data['Patient ID']):\n",
        "    #indexing the data by selecting the rows of training and testing from teh raw_data\n",
        "    train_data = raw_data.iloc[train]\n",
        "    test_data = raw_data.iloc[test]\n",
        "#Displaying the  total number or rows and columns training set\n",
        "print(\"Training Data\")\n",
        "print(train_data.shape)\n",
        "\n",
        "#Displaying the  total number or rows and columns testing set\n",
        "print(\"\\nTesting Data\")\n",
        "print(test_data.shape)"
      ]
    },
    {
      "cell_type": "markdown",
      "metadata": {
        "id": "XTLUVkwN27O-"
      },
      "source": [
        "Following the same process, we split the testing set into 50% validation and 50% testing.This will enable us to evaluate the model performance on the validation, do hyperparameter tunning and use the testing set at the very last of the project to test model.\\"
      ]
    },
    {
      "cell_type": "code",
      "execution_count": null,
      "metadata": {
        "colab": {
          "base_uri": "https://localhost:8080/"
        },
        "id": "g1MgDj68LRkx",
        "outputId": "da4e2720-b462-430f-9cda-5f080b13aa42"
      },
      "outputs": [
        {
          "name": "stdout",
          "output_type": "stream",
          "text": [
            "\n",
            "Validation Data \n",
            "(724, 152)\n",
            "\n",
            "Testing Data \n",
            "(331, 152)\n"
          ]
        }
      ],
      "source": [
        "#Further splitting the test set for validation\n",
        "gss_val = GroupShuffleSplit(n_splits=1, test_size=0.5, random_state=42 )\n",
        "for test_v, val_id in gss_val.split(test_data, groups=test_data['Patient ID']):\n",
        "    final_test_data = test_data.iloc[test_v]\n",
        "    val_data =test_data.iloc[val_id]\n",
        "\n",
        "print(\"\\nValidation Data \")\n",
        "print(val_data.shape)\n",
        "print(\"\\nTesting Data \")\n",
        "print(final_test_data.shape)"
      ]
    },
    {
      "cell_type": "markdown",
      "metadata": {
        "id": "H16iae2x27O-"
      },
      "source": [
        "Also, in other for us to evaluate the models prediction and aggregate them in the task two, we followed the previous process to split the validation data into two again. One set is used to evaluate the models in the task one and the other validation set is used to evaluate the models in the second task."
      ]
    },
    {
      "cell_type": "code",
      "execution_count": null,
      "metadata": {
        "id": "MvBqnnD827O_",
        "outputId": "7381cf25-7aca-4230-fa9d-0285f90756d7"
      },
      "outputs": [
        {
          "name": "stdout",
          "output_type": "stream",
          "text": [
            "\n",
            "Task 1 validation set \n",
            "(436, 152)\n",
            "\n",
            "Task 2 validation set\n",
            "(288, 152)\n"
          ]
        }
      ],
      "source": [
        "#Again we split the validation set into two one for the task 1 and the other for task two\n",
        "gss_val_val = GroupShuffleSplit(n_splits=1, test_size=0.5, random_state=42 )\n",
        "for task1, task2 in gss_val_val.split(val_data, groups=val_data['Patient ID']):\n",
        "    task_1_data = val_data.iloc[task1]\n",
        "    task_2_data =val_data.iloc[task2]\n",
        "\n",
        "print(\"\\nTask 1 validation set \")\n",
        "print(task_1_data.shape)\n",
        "print(\"\\nTask 2 validation set\")\n",
        "print(task_2_data.shape)"
      ]
    },
    {
      "cell_type": "markdown",
      "metadata": {
        "id": "6jkO-PHrLRky"
      },
      "source": [
        "In other to check how many unique patient there are in the each of the sets (training,validation and testing) we visualized by plotting  the  the Training, Validation and Testing using bar plot and displaying the total patient number on top of each bar.\n"
      ]
    },
    {
      "cell_type": "code",
      "execution_count": null,
      "metadata": {
        "colab": {
          "base_uri": "https://localhost:8080/",
          "height": 656
        },
        "id": "HLN8capDLRky",
        "outputId": "2fd6a9b1-df30-4536-a5f7-1387382ea7e1"
      },
      "outputs": [
        {
          "data": {
            "text/plain": [
              "<function matplotlib.pyplot.show(close=None, block=None)>"
            ]
          },
          "execution_count": 37,
          "metadata": {},
          "output_type": "execute_result"
        },
        {
          "data": {
            "image/png": "[encoded data removed]",
            "text/plain": [
              "<Figure size 700x500 with 1 Axes>"
            ]
          },
          "metadata": {},
          "output_type": "display_data"
        }
      ],
      "source": [
        "#Count the number of unique patients in each set\n",
        "train_patients = train_data['Patient ID'].nunique()\n",
        "task_one_val =task_1_data['Patient ID'].nunique()\n",
        "task_two_val =task_2_data['Patient ID'].nunique()\n",
        "test_patients = final_test_data['Patient ID'].nunique()\n",
        "\n",
        "#Prepare data for plotting\n",
        "sets = ['Training','Task_1_Val','Task_2_Val','Testing']\n",
        "patients_counts = [train_patients,task_one_val,task_two_val,test_patients]\n",
        "\n",
        "#Creating the bar plot using matplotlib\n",
        "plt.figure(figsize=(7,5))\n",
        "bars = plt.bar(sets, patients_counts, color=['blue','green','orange','red'])\n",
        "plt.xlabel('Dataset')\n",
        "plt.ylabel('Number of Patients')\n",
        "plt.title('Distribution of Patients Across Dataset Splits')\n",
        "\n",
        "#Adding the actual numbers of patients on top of each bar\n",
        "for bar in bars:\n",
        "    yvalue = bar.get_height()\n",
        "    plt.text(bar.get_x() + bar.get_width()/2, yvalue, int(yvalue), ha='center',va='bottom')\n",
        "\n",
        "plt.show\n"
      ]
    },
    {
      "cell_type": "markdown",
      "metadata": {
        "id": "3WQYB0Sl27PA"
      },
      "source": [
        "To verify that indeed there are no overlap of patients in any of the sets (training, validation and testing). We wrote the code below. the code puts patients in each  dataset into a set and check the intersections of the various sets. If the len of the intersection are none or zero. then it display there are no overlaps"
      ]
    },
    {
      "cell_type": "code",
      "execution_count": null,
      "metadata": {
        "colab": {
          "base_uri": "https://localhost:8080/"
        },
        "id": "RLz8DnzKLRky",
        "outputId": "2b96627a-88a8-4d9b-9d54-d5444dc73c3e"
      },
      "outputs": [
        {
          "name": "stdout",
          "output_type": "stream",
          "text": [
            "There is no overlap of patients in any of  the sets\n"
          ]
        }
      ],
      "source": [
        "#Check to whether there are overlaps of the patient id\n",
        "train_patient_ids = set(train_data['Patient ID'])\n",
        "val_patient_ids = set(val_data['Patient ID'])\n",
        "test_patient_ids = set(final_test_data['Patient ID'])\n",
        "\n",
        "#Find the intersection of teh various sets\n",
        "train_val_overlap = train_patient_ids.intersection(val_patient_ids)\n",
        "train_test_overlap = train_patient_ids.intersection(test_patient_ids)\n",
        "val_test_overlap = val_patient_ids.intersection(test_patient_ids)\n",
        "\n",
        "#conditions to check if the sets are empty and display the results\n",
        "if len(train_val_overlap)==0 and len(train_test_overlap)==0 and len(val_test_overlap)== 0:\n",
        "    print(\"There is no overlap of patients in any of  the sets\")\n",
        "else:\n",
        "    if len(train_val_overlap) ==0:\n",
        "        print(\"There is overlap between the training and validation sets\")\n",
        "    elif  len(train_test_overlap) ==0:\n",
        "        print(\"There is overlap between the training and testing sets\")\n",
        "    else:\n",
        "        print(\"There is overlap between the validation and testing sets\")"
      ]
    },
    {
      "cell_type": "markdown",
      "metadata": {
        "id": "OW5lyYqgLRky"
      },
      "source": [
        "To deal with the class imbalance in the various set\n",
        "we first visualized the class(benign and malignent) distributions in the various sets"
      ]
    },
    {
      "cell_type": "code",
      "execution_count": null,
      "metadata": {
        "colab": {
          "base_uri": "https://localhost:8080/",
          "height": 658
        },
        "id": "wJCcF6GWLRky",
        "outputId": "462210f4-ac86-400b-d052-658780e84cd7"
      },
      "outputs": [
        {
          "data": {
            "text/plain": [
              "<function matplotlib.pyplot.show(close=None, block=None)>"
            ]
          },
          "execution_count": 39,
          "metadata": {},
          "output_type": "execute_result"
        },
        {
          "data": {
            "text/plain": [
              "<Figure size 800x500 with 0 Axes>"
            ]
          },
          "metadata": {},
          "output_type": "display_data"
        },
        {
          "data": {
            "image/png": "[encoded data removed]",
            "text/plain": [
              "<Figure size 640x480 with 1 Axes>"
            ]
          },
          "metadata": {},
          "output_type": "display_data"
        }
      ],
      "source": [
        "#Count the propotion of class in each sets (training,validation and testing)\n",
        "#for simplicity we plotted the validation instead of the two validations\n",
        "training_label_count = train_data['Label'].value_counts(normalize=True)\n",
        "validation_label_count = val_data['Label'].value_counts(normalize=True)\n",
        "test_label_count = final_test_data['Label'].value_counts(normalize=True)\n",
        "\n",
        "#Create a dictionary and put it in a Dataframe from the counts\n",
        "df = pd.DataFrame({\n",
        "    'Training': training_label_count,\n",
        "    'Validation': validation_label_count,\n",
        "    'Testing': test_label_count\n",
        "})\n",
        "#creating  a bar plot to show the class distributions across the datasets\n",
        "plt.figure(figsize=(8,5))\n",
        "df.plot(kind='bar',colormap='viridis')\n",
        "plt.title('Label Distribution Across Datasets')\n",
        "plt.ylabel('Proportions')\n",
        "plt.xlabel('class')\n",
        "plt.xticks(rotation=0)\n",
        "plt.grid(True)\n",
        "plt.legend(title=\"Dataset\")\n",
        "plt.show"
      ]
    },
    {
      "cell_type": "markdown",
      "metadata": {
        "id": "F2k_pYBaLRky"
      },
      "source": [
        "It could be observed from the plot that, the benign cases are higher accros all the sets with the validation haiving almost 80% of the benign cases. On the other hand the training sets have most of the malignent case with little over 50%. Even though the other sets like the validation and testing have an imbalance both case, the training sets is nearly balance between the benign and malignent cases"
      ]
    },
    {
      "cell_type": "markdown",
      "metadata": {
        "id": "0ckKdfyp27PB"
      },
      "source": [
        "In other to better understand how is the distribution of the two class is balanced between the training,validation and testing sets. we plotted them separatly to visualized each class in  training, validation and testing using matplotlib with seaborn and pandas"
      ]
    },
    {
      "cell_type": "code",
      "execution_count": null,
      "metadata": {
        "colab": {
          "base_uri": "https://localhost:8080/",
          "height": 410
        },
        "id": "bBcDQAtqLRkz",
        "outputId": "fb016871-28e3-459b-c633-3c8de3e853e3"
      },
      "outputs": [
        {
          "data": {
            "image/png": "[encoded data removed]",
            "text/plain": [
              "<Figure size 700x400 with 1 Axes>"
            ]
          },
          "metadata": {},
          "output_type": "display_data"
        }
      ],
      "source": [
        "#Create a dataframe of each subset containing class and holding it in a dictionary (ie data)\n",
        "data = {\n",
        "    'Training': pd.DataFrame({'label':train_data['Label']}),\n",
        "    'Validation': pd.DataFrame({'label':val_data['Label']}),\n",
        "    'Testing': pd.DataFrame({'label':final_test_data['Label']})\n",
        "}\n",
        "\n",
        "#Create a DataFrame for summazaring the count of each class in each dataset\n",
        "plot_data = pd.DataFrame({\n",
        "    'Dataset' : ['Training','Validation','Testing'],\n",
        "    #count the total number of benign cases\n",
        "    'Class 0': [df['label'].value_counts().get(0,0) for df in data.values()],\n",
        "    #count the total number of malignent cases\n",
        "    'Class 1': [df['label'].value_counts().get(1,0) for df in data.values()]\n",
        "})\n",
        "\n",
        "#reshape the data for plotting.\n",
        "#pandas uses melt function transform each row of plot_data to multiple rows in plot_data_melted\n",
        "#each representing a dataset and class combination with its corresponding count\n",
        "plot_data_melted = plot_data.melt(id_vars='Dataset', var_name='Class', value_name='Count')\n",
        "\n",
        "#plotting the data using seabon(barplot) by plotting Dataset in the x-axis and count in the y-axis\n",
        "plt.figure(figsize=(7,4))\n",
        "sns.barplot(x='Dataset', y='Count', hue='Class', data=plot_data_melted)\n",
        "plt.title('Distribution of Classes Across Training, Validation and Testing Sets')\n",
        "plt.xlabel('Dataset')\n",
        "plt.ylabel('Number of Observations')\n",
        "plt.legend('Number of Observation')\n",
        "plt.legend(title='Class')\n",
        "plt.show()"
      ]
    },
    {
      "cell_type": "markdown",
      "metadata": {
        "id": "3422tV9z27PC"
      },
      "source": [
        "From the plot, it could be oberved that the distribution of benign and malignet cases in the training set is  fairly distributed even though the other cases portray a quite imbalance nature.Though is not a perfect balance in the training set, we used it to train the models without applying any technique."
      ]
    },
    {
      "cell_type": "markdown",
      "metadata": {
        "id": "0qMoY087LRkz"
      },
      "source": [
        "### Segragating Features and Labels\n",
        "to prepare the training set for training, We first separate the features and labels in each datasets and to ensure that data is randomized while segregating, we shuflling the rows of the dataframe before segragating the features and labels"
      ]
    },
    {
      "cell_type": "code",
      "execution_count": null,
      "metadata": {
        "id": "QTGK31V_VfRe"
      },
      "outputs": [],
      "source": [
        "#Shuffle the training data\n",
        "#randomly sample items and shuffles the entire DataFrame and return the same data\n",
        "#reset_index() resets the dataframe's index to the default integer index\n",
        "#drop=True avoid the old index being added as column in the dataframe\n",
        "train_data_shuffled = train_data.sample(frac=1, random_state=42).reset_index(drop=True)\n",
        "\n",
        "#Segregating the features and labels\n",
        "X_train = train_data_shuffled.drop(['Patient ID','Label'], axis=1)\n",
        "y_train= train_data_shuffled['Label']\n",
        "\n",
        "\n",
        "#We do the same process for the validation and testing set\n",
        "task_1_val_shuffled =  task_1_data.sample(frac=1, random_state=42).reset_index(drop=True)\n",
        "test_data_shuffled = final_test_data.sample(frac=1, random_state=42).reset_index(drop=True)\n",
        "task_2_val_shuffled = task_2_data.sample(frac=1, random_state=42).reset_index(drop=True)\n",
        "#\n",
        "\n",
        "#Segregating the features\n",
        "X_val = task_1_val_shuffled.drop(['Patient ID','Label'], axis=1)\n",
        "y_val= task_1_val_shuffled['Label']\n",
        "\n",
        "#Segregating for features and labels for task two (used later)\n",
        "X_val_2 = task_2_val_shuffled.drop(['Patient ID','Label'], axis=1)\n",
        "y_val_2= task_2_val_shuffled['Label']\n",
        "\n",
        "#Segregating the features and labels\n",
        "X_test = test_data_shuffled.drop(['Patient ID','Label'], axis=1)\n",
        "y_test= test_data_shuffled['Label']\n"
      ]
    },
    {
      "cell_type": "markdown",
      "metadata": {
        "id": "utJ0X8K1fNQW"
      },
      "source": [
        "## Model Setup and  Training\n",
        "In in the part of the project we begin to initialized and train and our selected models. Based on this paper[3], we selected support vector classifier, random forest classifier and adaboost."
      ]
    },
    {
      "cell_type": "markdown",
      "metadata": {
        "id": "57eAU8Pb27PD"
      },
      "source": [
        "Scaling the data helps the models to learn more effectively and from [4] scaling helps optimization algorithm to converge faster, it managers outlier effects and prevents bias from variables with larger ranges. We therefore scaled all our features in the various  datasets"
      ]
    },
    {
      "cell_type": "code",
      "execution_count": null,
      "metadata": {
        "id": "ikcMerlH27PD"
      },
      "outputs": [],
      "source": [
        "#creating an instance of the StandardScaler()\n",
        "scaler = StandardScaler()\n",
        "#scaling X_train\n",
        "X_train_scaled = scaler.fit_transform(X_train)\n",
        "#scaling X_validation for task 1\n",
        "X_val_scaled_task_1 = scaler.fit_transform(X_val)\n",
        "#scaling X_test\n",
        "X_test_scaled = scaler.fit_transform(X_test)\n",
        "#scaling X_validation for task 2\n",
        "X_val_2_scaled = scaler.fit_transform(X_val_2)"
      ]
    },
    {
      "cell_type": "markdown",
      "metadata": {
        "id": "GYsj50WU8QSe"
      },
      "source": [
        "The first model we set out and train is the support vector classifier"
      ]
    },
    {
      "cell_type": "code",
      "execution_count": null,
      "metadata": {
        "colab": {
          "base_uri": "https://localhost:8080/",
          "height": 74
        },
        "id": "nRGMIFKDeBqn",
        "outputId": "968f3687-f966-470a-99b3-b46ac47cf653"
      },
      "outputs": [
        {
          "data": {
            "text/html": [
              "<style>#sk-container-id-4 {\n",
              "  /* Definition of color scheme common for light and dark mode */\n",
              "  --sklearn-color-text: black;\n",
              "  --sklearn-color-line: gray;\n",
              "  /* Definition of color scheme for unfitted estimators */\n",
              "  --sklearn-color-unfitted-level-0: #fff5e6;\n",
              "  --sklearn-color-unfitted-level-1: #f6e4d2;\n",
              "  --sklearn-color-unfitted-level-2: #ffe0b3;\n",
              "  --sklearn-color-unfitted-level-3: chocolate;\n",
              "  /* Definition of color scheme for fitted estimators */\n",
              "  --sklearn-color-fitted-level-0: #f0f8ff;\n",
              "  --sklearn-color-fitted-level-1: #d4ebff;\n",
              "  --sklearn-color-fitted-level-2: #b3dbfd;\n",
              "  --sklearn-color-fitted-level-3: cornflowerblue;\n",
              "\n",
              "  /* Specific color for light theme */\n",
              "  --sklearn-color-text-on-default-background: var(--sg-text-color, var(--theme-code-foreground, var(--jp-content-font-color1, black)));\n",
              "  --sklearn-color-background: var(--sg-background-color, var(--theme-background, var(--jp-layout-color0, white)));\n",
              "  --sklearn-color-border-box: var(--sg-text-color, var(--theme-code-foreground, var(--jp-content-font-color1, black)));\n",
              "  --sklearn-color-icon: #696969;\n",
              "\n",
              "  @media (prefers-color-scheme: dark) {\n",
              "    /* Redefinition of color scheme for dark theme */\n",
              "    --sklearn-color-text-on-default-background: var(--sg-text-color, var(--theme-code-foreground, var(--jp-content-font-color1, white)));\n",
              "    --sklearn-color-background: var(--sg-background-color, var(--theme-background, var(--jp-layout-color0, #111)));\n",
              "    --sklearn-color-border-box: var(--sg-text-color, var(--theme-code-foreground, var(--jp-content-font-color1, white)));\n",
              "    --sklearn-color-icon: #878787;\n",
              "  }\n",
              "}\n",
              "\n",
              "#sk-container-id-4 {\n",
              "  color: var(--sklearn-color-text);\n",
              "}\n",
              "\n",
              "#sk-container-id-4 pre {\n",
              "  padding: 0;\n",
              "}\n",
              "\n",
              "#sk-container-id-4 input.sk-hidden--visually {\n",
              "  border: 0;\n",
              "  clip: rect(1px 1px 1px 1px);\n",
              "  clip: rect(1px, 1px, 1px, 1px);\n",
              "  height: 1px;\n",
              "  margin: -1px;\n",
              "  overflow: hidden;\n",
              "  padding: 0;\n",
              "  position: absolute;\n",
              "  width: 1px;\n",
              "}\n",
              "\n",
              "#sk-container-id-4 div.sk-dashed-wrapped {\n",
              "  border: 1px dashed var(--sklearn-color-line);\n",
              "  margin: 0 0.4em 0.5em 0.4em;\n",
              "  box-sizing: border-box;\n",
              "  padding-bottom: 0.4em;\n",
              "  background-color: var(--sklearn-color-background);\n",
              "}\n",
              "\n",
              "#sk-container-id-4 div.sk-container {\n",
              "  /* jupyter's `normalize.less` sets `[hidden] { display: none; }`\n",
              "     but bootstrap.min.css set `[hidden] { display: none !important; }`\n",
              "     so we also need the `!important` here to be able to override the\n",
              "     default hidden behavior on the sphinx rendered scikit-learn.org.\n",
              "     See: https://github.com/scikit-learn/scikit-learn/issues/21755 */\n",
              "  display: inline-block !important;\n",
              "  position: relative;\n",
              "}\n",
              "\n",
              "#sk-container-id-4 div.sk-text-repr-fallback {\n",
              "  display: none;\n",
              "}\n",
              "\n",
              "div.sk-parallel-item,\n",
              "div.sk-serial,\n",
              "div.sk-item {\n",
              "  /* draw centered vertical line to link estimators */\n",
              "  background-image: linear-gradient(var(--sklearn-color-text-on-default-background), var(--sklearn-color-text-on-default-background));\n",
              "  background-size: 2px 100%;\n",
              "  background-repeat: no-repeat;\n",
              "  background-position: center center;\n",
              "}\n",
              "\n",
              "/* Parallel-specific style estimator block */\n",
              "\n",
              "#sk-container-id-4 div.sk-parallel-item::after {\n",
              "  content: \"\";\n",
              "  width: 100%;\n",
              "  border-bottom: 2px solid var(--sklearn-color-text-on-default-background);\n",
              "  flex-grow: 1;\n",
              "}\n",
              "\n",
              "#sk-container-id-4 div.sk-parallel {\n",
              "  display: flex;\n",
              "  align-items: stretch;\n",
              "  justify-content: center;\n",
              "  background-color: var(--sklearn-color-background);\n",
              "  position: relative;\n",
              "}\n",
              "\n",
              "#sk-container-id-4 div.sk-parallel-item {\n",
              "  display: flex;\n",
              "  flex-direction: column;\n",
              "}\n",
              "\n",
              "#sk-container-id-4 div.sk-parallel-item:first-child::after {\n",
              "  align-self: flex-end;\n",
              "  width: 50%;\n",
              "}\n",
              "\n",
              "#sk-container-id-4 div.sk-parallel-item:last-child::after {\n",
              "  align-self: flex-start;\n",
              "  width: 50%;\n",
              "}\n",
              "\n",
              "#sk-container-id-4 div.sk-parallel-item:only-child::after {\n",
              "  width: 0;\n",
              "}\n",
              "\n",
              "/* Serial-specific style estimator block */\n",
              "\n",
              "#sk-container-id-4 div.sk-serial {\n",
              "  display: flex;\n",
              "  flex-direction: column;\n",
              "  align-items: center;\n",
              "  background-color: var(--sklearn-color-background);\n",
              "  padding-right: 1em;\n",
              "  padding-left: 1em;\n",
              "}\n",
              "\n",
              "\n",
              "/* Toggleable style: style used for estimator/Pipeline/ColumnTransformer box that is\n",
              "clickable and can be expanded/collapsed.\n",
              "- Pipeline and ColumnTransformer use this feature and define the default style\n",
              "- Estimators will overwrite some part of the style using the `sk-estimator` class\n",
              "*/\n",
              "\n",
              "/* Pipeline and ColumnTransformer style (default) */\n",
              "\n",
              "#sk-container-id-4 div.sk-toggleable {\n",
              "  /* Default theme specific background. It is overwritten whether we have a\n",
              "  specific estimator or a Pipeline/ColumnTransformer */\n",
              "  background-color: var(--sklearn-color-background);\n",
              "}\n",
              "\n",
              "/* Toggleable label */\n",
              "#sk-container-id-4 label.sk-toggleable__label {\n",
              "  cursor: pointer;\n",
              "  display: block;\n",
              "  width: 100%;\n",
              "  margin-bottom: 0;\n",
              "  padding: 0.5em;\n",
              "  box-sizing: border-box;\n",
              "  text-align: center;\n",
              "}\n",
              "\n",
              "#sk-container-id-4 label.sk-toggleable__label-arrow:before {\n",
              "  /* Arrow on the left of the label */\n",
              "  content: \"▸\";\n",
              "  float: left;\n",
              "  margin-right: 0.25em;\n",
              "  color: var(--sklearn-color-icon);\n",
              "}\n",
              "\n",
              "#sk-container-id-4 label.sk-toggleable__label-arrow:hover:before {\n",
              "  color: var(--sklearn-color-text);\n",
              "}\n",
              "\n",
              "/* Toggleable content - dropdown */\n",
              "\n",
              "#sk-container-id-4 div.sk-toggleable__content {\n",
              "  max-height: 0;\n",
              "  max-width: 0;\n",
              "  overflow: hidden;\n",
              "  text-align: left;\n",
              "  /* unfitted */\n",
              "  background-color: var(--sklearn-color-unfitted-level-0);\n",
              "}\n",
              "\n",
              "#sk-container-id-4 div.sk-toggleable__content.fitted {\n",
              "  /* fitted */\n",
              "  background-color: var(--sklearn-color-fitted-level-0);\n",
              "}\n",
              "\n",
              "#sk-container-id-4 div.sk-toggleable__content pre {\n",
              "  margin: 0.2em;\n",
              "  border-radius: 0.25em;\n",
              "  color: var(--sklearn-color-text);\n",
              "  /* unfitted */\n",
              "  background-color: var(--sklearn-color-unfitted-level-0);\n",
              "}\n",
              "\n",
              "#sk-container-id-4 div.sk-toggleable__content.fitted pre {\n",
              "  /* unfitted */\n",
              "  background-color: var(--sklearn-color-fitted-level-0);\n",
              "}\n",
              "\n",
              "#sk-container-id-4 input.sk-toggleable__control:checked~div.sk-toggleable__content {\n",
              "  /* Expand drop-down */\n",
              "  max-height: 200px;\n",
              "  max-width: 100%;\n",
              "  overflow: auto;\n",
              "}\n",
              "\n",
              "#sk-container-id-4 input.sk-toggleable__control:checked~label.sk-toggleable__label-arrow:before {\n",
              "  content: \"▾\";\n",
              "}\n",
              "\n",
              "/* Pipeline/ColumnTransformer-specific style */\n",
              "\n",
              "#sk-container-id-4 div.sk-label input.sk-toggleable__control:checked~label.sk-toggleable__label {\n",
              "  color: var(--sklearn-color-text);\n",
              "  background-color: var(--sklearn-color-unfitted-level-2);\n",
              "}\n",
              "\n",
              "#sk-container-id-4 div.sk-label.fitted input.sk-toggleable__control:checked~label.sk-toggleable__label {\n",
              "  background-color: var(--sklearn-color-fitted-level-2);\n",
              "}\n",
              "\n",
              "/* Estimator-specific style */\n",
              "\n",
              "/* Colorize estimator box */\n",
              "#sk-container-id-4 div.sk-estimator input.sk-toggleable__control:checked~label.sk-toggleable__label {\n",
              "  /* unfitted */\n",
              "  background-color: var(--sklearn-color-unfitted-level-2);\n",
              "}\n",
              "\n",
              "#sk-container-id-4 div.sk-estimator.fitted input.sk-toggleable__control:checked~label.sk-toggleable__label {\n",
              "  /* fitted */\n",
              "  background-color: var(--sklearn-color-fitted-level-2);\n",
              "}\n",
              "\n",
              "#sk-container-id-4 div.sk-label label.sk-toggleable__label,\n",
              "#sk-container-id-4 div.sk-label label {\n",
              "  /* The background is the default theme color */\n",
              "  color: var(--sklearn-color-text-on-default-background);\n",
              "}\n",
              "\n",
              "/* On hover, darken the color of the background */\n",
              "#sk-container-id-4 div.sk-label:hover label.sk-toggleable__label {\n",
              "  color: var(--sklearn-color-text);\n",
              "  background-color: var(--sklearn-color-unfitted-level-2);\n",
              "}\n",
              "\n",
              "/* Label box, darken color on hover, fitted */\n",
              "#sk-container-id-4 div.sk-label.fitted:hover label.sk-toggleable__label.fitted {\n",
              "  color: var(--sklearn-color-text);\n",
              "  background-color: var(--sklearn-color-fitted-level-2);\n",
              "}\n",
              "\n",
              "/* Estimator label */\n",
              "\n",
              "#sk-container-id-4 div.sk-label label {\n",
              "  font-family: monospace;\n",
              "  font-weight: bold;\n",
              "  display: inline-block;\n",
              "  line-height: 1.2em;\n",
              "}\n",
              "\n",
              "#sk-container-id-4 div.sk-label-container {\n",
              "  text-align: center;\n",
              "}\n",
              "\n",
              "/* Estimator-specific */\n",
              "#sk-container-id-4 div.sk-estimator {\n",
              "  font-family: monospace;\n",
              "  border: 1px dotted var(--sklearn-color-border-box);\n",
              "  border-radius: 0.25em;\n",
              "  box-sizing: border-box;\n",
              "  margin-bottom: 0.5em;\n",
              "  /* unfitted */\n",
              "  background-color: var(--sklearn-color-unfitted-level-0);\n",
              "}\n",
              "\n",
              "#sk-container-id-4 div.sk-estimator.fitted {\n",
              "  /* fitted */\n",
              "  background-color: var(--sklearn-color-fitted-level-0);\n",
              "}\n",
              "\n",
              "/* on hover */\n",
              "#sk-container-id-4 div.sk-estimator:hover {\n",
              "  /* unfitted */\n",
              "  background-color: var(--sklearn-color-unfitted-level-2);\n",
              "}\n",
              "\n",
              "#sk-container-id-4 div.sk-estimator.fitted:hover {\n",
              "  /* fitted */\n",
              "  background-color: var(--sklearn-color-fitted-level-2);\n",
              "}\n",
              "\n",
              "/* Specification for estimator info (e.g. \"i\" and \"?\") */\n",
              "\n",
              "/* Common style for \"i\" and \"?\" */\n",
              "\n",
              ".sk-estimator-doc-link,\n",
              "a:link.sk-estimator-doc-link,\n",
              "a:visited.sk-estimator-doc-link {\n",
              "  float: right;\n",
              "  font-size: smaller;\n",
              "  line-height: 1em;\n",
              "  font-family: monospace;\n",
              "  background-color: var(--sklearn-color-background);\n",
              "  border-radius: 1em;\n",
              "  height: 1em;\n",
              "  width: 1em;\n",
              "  text-decoration: none !important;\n",
              "  margin-left: 1ex;\n",
              "  /* unfitted */\n",
              "  border: var(--sklearn-color-unfitted-level-1) 1pt solid;\n",
              "  color: var(--sklearn-color-unfitted-level-1);\n",
              "}\n",
              "\n",
              ".sk-estimator-doc-link.fitted,\n",
              "a:link.sk-estimator-doc-link.fitted,\n",
              "a:visited.sk-estimator-doc-link.fitted {\n",
              "  /* fitted */\n",
              "  border: var(--sklearn-color-fitted-level-1) 1pt solid;\n",
              "  color: var(--sklearn-color-fitted-level-1);\n",
              "}\n",
              "\n",
              "/* On hover */\n",
              "div.sk-estimator:hover .sk-estimator-doc-link:hover,\n",
              ".sk-estimator-doc-link:hover,\n",
              "div.sk-label-container:hover .sk-estimator-doc-link:hover,\n",
              ".sk-estimator-doc-link:hover {\n",
              "  /* unfitted */\n",
              "  background-color: var(--sklearn-color-unfitted-level-3);\n",
              "  color: var(--sklearn-color-background);\n",
              "  text-decoration: none;\n",
              "}\n",
              "\n",
              "div.sk-estimator.fitted:hover .sk-estimator-doc-link.fitted:hover,\n",
              ".sk-estimator-doc-link.fitted:hover,\n",
              "div.sk-label-container:hover .sk-estimator-doc-link.fitted:hover,\n",
              ".sk-estimator-doc-link.fitted:hover {\n",
              "  /* fitted */\n",
              "  background-color: var(--sklearn-color-fitted-level-3);\n",
              "  color: var(--sklearn-color-background);\n",
              "  text-decoration: none;\n",
              "}\n",
              "\n",
              "/* Span, style for the box shown on hovering the info icon */\n",
              ".sk-estimator-doc-link span {\n",
              "  display: none;\n",
              "  z-index: 9999;\n",
              "  position: relative;\n",
              "  font-weight: normal;\n",
              "  right: .2ex;\n",
              "  padding: .5ex;\n",
              "  margin: .5ex;\n",
              "  width: min-content;\n",
              "  min-width: 20ex;\n",
              "  max-width: 50ex;\n",
              "  color: var(--sklearn-color-text);\n",
              "  box-shadow: 2pt 2pt 4pt #999;\n",
              "  /* unfitted */\n",
              "  background: var(--sklearn-color-unfitted-level-0);\n",
              "  border: .5pt solid var(--sklearn-color-unfitted-level-3);\n",
              "}\n",
              "\n",
              ".sk-estimator-doc-link.fitted span {\n",
              "  /* fitted */\n",
              "  background: var(--sklearn-color-fitted-level-0);\n",
              "  border: var(--sklearn-color-fitted-level-3);\n",
              "}\n",
              "\n",
              ".sk-estimator-doc-link:hover span {\n",
              "  display: block;\n",
              "}\n",
              "\n",
              "/* \"?\"-specific style due to the `<a>` HTML tag */\n",
              "\n",
              "#sk-container-id-4 a.estimator_doc_link {\n",
              "  float: right;\n",
              "  font-size: 1rem;\n",
              "  line-height: 1em;\n",
              "  font-family: monospace;\n",
              "  background-color: var(--sklearn-color-background);\n",
              "  border-radius: 1rem;\n",
              "  height: 1rem;\n",
              "  width: 1rem;\n",
              "  text-decoration: none;\n",
              "  /* unfitted */\n",
              "  color: var(--sklearn-color-unfitted-level-1);\n",
              "  border: var(--sklearn-color-unfitted-level-1) 1pt solid;\n",
              "}\n",
              "\n",
              "#sk-container-id-4 a.estimator_doc_link.fitted {\n",
              "  /* fitted */\n",
              "  border: var(--sklearn-color-fitted-level-1) 1pt solid;\n",
              "  color: var(--sklearn-color-fitted-level-1);\n",
              "}\n",
              "\n",
              "/* On hover */\n",
              "#sk-container-id-4 a.estimator_doc_link:hover {\n",
              "  /* unfitted */\n",
              "  background-color: var(--sklearn-color-unfitted-level-3);\n",
              "  color: var(--sklearn-color-background);\n",
              "  text-decoration: none;\n",
              "}\n",
              "\n",
              "#sk-container-id-4 a.estimator_doc_link.fitted:hover {\n",
              "  /* fitted */\n",
              "  background-color: var(--sklearn-color-fitted-level-3);\n",
              "}\n",
              "</style><div id=\"sk-container-id-4\" class=\"sk-top-container\"><div class=\"sk-text-repr-fallback\"><pre>SVC(probability=True, random_state=42)</pre><b>In a Jupyter environment, please rerun this cell to show the HTML representation or trust the notebook. <br />On GitHub, the HTML representation is unable to render, please try loading this page with nbviewer.org.</b></div><div class=\"sk-container\" hidden><div class=\"sk-item\"><div class=\"sk-estimator fitted sk-toggleable\"><input class=\"sk-toggleable__control sk-hidden--visually\" id=\"sk-estimator-id-4\" type=\"checkbox\" checked><label for=\"sk-estimator-id-4\" class=\"sk-toggleable__label fitted sk-toggleable__label-arrow fitted\">&nbsp;&nbsp;SVC<a class=\"sk-estimator-doc-link fitted\" rel=\"noreferrer\" target=\"_blank\" href=\"https://scikit-learn.org/1.5/modules/generated/sklearn.svm.SVC.html\">?<span>Documentation for SVC</span></a><span class=\"sk-estimator-doc-link fitted\">i<span>Fitted</span></span></label><div class=\"sk-toggleable__content fitted\"><pre>SVC(probability=True, random_state=42)</pre></div> </div></div></div></div>"
            ],
            "text/plain": [
              "SVC(probability=True, random_state=42)"
            ]
          },
          "execution_count": 43,
          "metadata": {},
          "output_type": "execute_result"
        }
      ],
      "source": [
        "#Define models\n",
        "svc_model = SVC(random_state=42,probability=True)\n",
        "#training the model\n",
        "svc_model.fit(X_train_scaled ,y_train)"
      ]
    },
    {
      "cell_type": "markdown",
      "metadata": {
        "id": "MyZB6Uhb8ctf"
      },
      "source": [
        "The second model we train is Random Forest Classifier"
      ]
    },
    {
      "cell_type": "code",
      "execution_count": null,
      "metadata": {
        "colab": {
          "base_uri": "https://localhost:8080/",
          "height": 74
        },
        "id": "knlvcZV3hUe8",
        "outputId": "6d78e432-9d15-4921-c6da-4b5c9fc7a5ea"
      },
      "outputs": [
        {
          "data": {
            "text/html": [
              "<style>#sk-container-id-5 {\n",
              "  /* Definition of color scheme common for light and dark mode */\n",
              "  --sklearn-color-text: black;\n",
              "  --sklearn-color-line: gray;\n",
              "  /* Definition of color scheme for unfitted estimators */\n",
              "  --sklearn-color-unfitted-level-0: #fff5e6;\n",
              "  --sklearn-color-unfitted-level-1: #f6e4d2;\n",
              "  --sklearn-color-unfitted-level-2: #ffe0b3;\n",
              "  --sklearn-color-unfitted-level-3: chocolate;\n",
              "  /* Definition of color scheme for fitted estimators */\n",
              "  --sklearn-color-fitted-level-0: #f0f8ff;\n",
              "  --sklearn-color-fitted-level-1: #d4ebff;\n",
              "  --sklearn-color-fitted-level-2: #b3dbfd;\n",
              "  --sklearn-color-fitted-level-3: cornflowerblue;\n",
              "\n",
              "  /* Specific color for light theme */\n",
              "  --sklearn-color-text-on-default-background: var(--sg-text-color, var(--theme-code-foreground, var(--jp-content-font-color1, black)));\n",
              "  --sklearn-color-background: var(--sg-background-color, var(--theme-background, var(--jp-layout-color0, white)));\n",
              "  --sklearn-color-border-box: var(--sg-text-color, var(--theme-code-foreground, var(--jp-content-font-color1, black)));\n",
              "  --sklearn-color-icon: #696969;\n",
              "\n",
              "  @media (prefers-color-scheme: dark) {\n",
              "    /* Redefinition of color scheme for dark theme */\n",
              "    --sklearn-color-text-on-default-background: var(--sg-text-color, var(--theme-code-foreground, var(--jp-content-font-color1, white)));\n",
              "    --sklearn-color-background: var(--sg-background-color, var(--theme-background, var(--jp-layout-color0, #111)));\n",
              "    --sklearn-color-border-box: var(--sg-text-color, var(--theme-code-foreground, var(--jp-content-font-color1, white)));\n",
              "    --sklearn-color-icon: #878787;\n",
              "  }\n",
              "}\n",
              "\n",
              "#sk-container-id-5 {\n",
              "  color: var(--sklearn-color-text);\n",
              "}\n",
              "\n",
              "#sk-container-id-5 pre {\n",
              "  padding: 0;\n",
              "}\n",
              "\n",
              "#sk-container-id-5 input.sk-hidden--visually {\n",
              "  border: 0;\n",
              "  clip: rect(1px 1px 1px 1px);\n",
              "  clip: rect(1px, 1px, 1px, 1px);\n",
              "  height: 1px;\n",
              "  margin: -1px;\n",
              "  overflow: hidden;\n",
              "  padding: 0;\n",
              "  position: absolute;\n",
              "  width: 1px;\n",
              "}\n",
              "\n",
              "#sk-container-id-5 div.sk-dashed-wrapped {\n",
              "  border: 1px dashed var(--sklearn-color-line);\n",
              "  margin: 0 0.4em 0.5em 0.4em;\n",
              "  box-sizing: border-box;\n",
              "  padding-bottom: 0.4em;\n",
              "  background-color: var(--sklearn-color-background);\n",
              "}\n",
              "\n",
              "#sk-container-id-5 div.sk-container {\n",
              "  /* jupyter's `normalize.less` sets `[hidden] { display: none; }`\n",
              "     but bootstrap.min.css set `[hidden] { display: none !important; }`\n",
              "     so we also need the `!important` here to be able to override the\n",
              "     default hidden behavior on the sphinx rendered scikit-learn.org.\n",
              "     See: https://github.com/scikit-learn/scikit-learn/issues/21755 */\n",
              "  display: inline-block !important;\n",
              "  position: relative;\n",
              "}\n",
              "\n",
              "#sk-container-id-5 div.sk-text-repr-fallback {\n",
              "  display: none;\n",
              "}\n",
              "\n",
              "div.sk-parallel-item,\n",
              "div.sk-serial,\n",
              "div.sk-item {\n",
              "  /* draw centered vertical line to link estimators */\n",
              "  background-image: linear-gradient(var(--sklearn-color-text-on-default-background), var(--sklearn-color-text-on-default-background));\n",
              "  background-size: 2px 100%;\n",
              "  background-repeat: no-repeat;\n",
              "  background-position: center center;\n",
              "}\n",
              "\n",
              "/* Parallel-specific style estimator block */\n",
              "\n",
              "#sk-container-id-5 div.sk-parallel-item::after {\n",
              "  content: \"\";\n",
              "  width: 100%;\n",
              "  border-bottom: 2px solid var(--sklearn-color-text-on-default-background);\n",
              "  flex-grow: 1;\n",
              "}\n",
              "\n",
              "#sk-container-id-5 div.sk-parallel {\n",
              "  display: flex;\n",
              "  align-items: stretch;\n",
              "  justify-content: center;\n",
              "  background-color: var(--sklearn-color-background);\n",
              "  position: relative;\n",
              "}\n",
              "\n",
              "#sk-container-id-5 div.sk-parallel-item {\n",
              "  display: flex;\n",
              "  flex-direction: column;\n",
              "}\n",
              "\n",
              "#sk-container-id-5 div.sk-parallel-item:first-child::after {\n",
              "  align-self: flex-end;\n",
              "  width: 50%;\n",
              "}\n",
              "\n",
              "#sk-container-id-5 div.sk-parallel-item:last-child::after {\n",
              "  align-self: flex-start;\n",
              "  width: 50%;\n",
              "}\n",
              "\n",
              "#sk-container-id-5 div.sk-parallel-item:only-child::after {\n",
              "  width: 0;\n",
              "}\n",
              "\n",
              "/* Serial-specific style estimator block */\n",
              "\n",
              "#sk-container-id-5 div.sk-serial {\n",
              "  display: flex;\n",
              "  flex-direction: column;\n",
              "  align-items: center;\n",
              "  background-color: var(--sklearn-color-background);\n",
              "  padding-right: 1em;\n",
              "  padding-left: 1em;\n",
              "}\n",
              "\n",
              "\n",
              "/* Toggleable style: style used for estimator/Pipeline/ColumnTransformer box that is\n",
              "clickable and can be expanded/collapsed.\n",
              "- Pipeline and ColumnTransformer use this feature and define the default style\n",
              "- Estimators will overwrite some part of the style using the `sk-estimator` class\n",
              "*/\n",
              "\n",
              "/* Pipeline and ColumnTransformer style (default) */\n",
              "\n",
              "#sk-container-id-5 div.sk-toggleable {\n",
              "  /* Default theme specific background. It is overwritten whether we have a\n",
              "  specific estimator or a Pipeline/ColumnTransformer */\n",
              "  background-color: var(--sklearn-color-background);\n",
              "}\n",
              "\n",
              "/* Toggleable label */\n",
              "#sk-container-id-5 label.sk-toggleable__label {\n",
              "  cursor: pointer;\n",
              "  display: block;\n",
              "  width: 100%;\n",
              "  margin-bottom: 0;\n",
              "  padding: 0.5em;\n",
              "  box-sizing: border-box;\n",
              "  text-align: center;\n",
              "}\n",
              "\n",
              "#sk-container-id-5 label.sk-toggleable__label-arrow:before {\n",
              "  /* Arrow on the left of the label */\n",
              "  content: \"▸\";\n",
              "  float: left;\n",
              "  margin-right: 0.25em;\n",
              "  color: var(--sklearn-color-icon);\n",
              "}\n",
              "\n",
              "#sk-container-id-5 label.sk-toggleable__label-arrow:hover:before {\n",
              "  color: var(--sklearn-color-text);\n",
              "}\n",
              "\n",
              "/* Toggleable content - dropdown */\n",
              "\n",
              "#sk-container-id-5 div.sk-toggleable__content {\n",
              "  max-height: 0;\n",
              "  max-width: 0;\n",
              "  overflow: hidden;\n",
              "  text-align: left;\n",
              "  /* unfitted */\n",
              "  background-color: var(--sklearn-color-unfitted-level-0);\n",
              "}\n",
              "\n",
              "#sk-container-id-5 div.sk-toggleable__content.fitted {\n",
              "  /* fitted */\n",
              "  background-color: var(--sklearn-color-fitted-level-0);\n",
              "}\n",
              "\n",
              "#sk-container-id-5 div.sk-toggleable__content pre {\n",
              "  margin: 0.2em;\n",
              "  border-radius: 0.25em;\n",
              "  color: var(--sklearn-color-text);\n",
              "  /* unfitted */\n",
              "  background-color: var(--sklearn-color-unfitted-level-0);\n",
              "}\n",
              "\n",
              "#sk-container-id-5 div.sk-toggleable__content.fitted pre {\n",
              "  /* unfitted */\n",
              "  background-color: var(--sklearn-color-fitted-level-0);\n",
              "}\n",
              "\n",
              "#sk-container-id-5 input.sk-toggleable__control:checked~div.sk-toggleable__content {\n",
              "  /* Expand drop-down */\n",
              "  max-height: 200px;\n",
              "  max-width: 100%;\n",
              "  overflow: auto;\n",
              "}\n",
              "\n",
              "#sk-container-id-5 input.sk-toggleable__control:checked~label.sk-toggleable__label-arrow:before {\n",
              "  content: \"▾\";\n",
              "}\n",
              "\n",
              "/* Pipeline/ColumnTransformer-specific style */\n",
              "\n",
              "#sk-container-id-5 div.sk-label input.sk-toggleable__control:checked~label.sk-toggleable__label {\n",
              "  color: var(--sklearn-color-text);\n",
              "  background-color: var(--sklearn-color-unfitted-level-2);\n",
              "}\n",
              "\n",
              "#sk-container-id-5 div.sk-label.fitted input.sk-toggleable__control:checked~label.sk-toggleable__label {\n",
              "  background-color: var(--sklearn-color-fitted-level-2);\n",
              "}\n",
              "\n",
              "/* Estimator-specific style */\n",
              "\n",
              "/* Colorize estimator box */\n",
              "#sk-container-id-5 div.sk-estimator input.sk-toggleable__control:checked~label.sk-toggleable__label {\n",
              "  /* unfitted */\n",
              "  background-color: var(--sklearn-color-unfitted-level-2);\n",
              "}\n",
              "\n",
              "#sk-container-id-5 div.sk-estimator.fitted input.sk-toggleable__control:checked~label.sk-toggleable__label {\n",
              "  /* fitted */\n",
              "  background-color: var(--sklearn-color-fitted-level-2);\n",
              "}\n",
              "\n",
              "#sk-container-id-5 div.sk-label label.sk-toggleable__label,\n",
              "#sk-container-id-5 div.sk-label label {\n",
              "  /* The background is the default theme color */\n",
              "  color: var(--sklearn-color-text-on-default-background);\n",
              "}\n",
              "\n",
              "/* On hover, darken the color of the background */\n",
              "#sk-container-id-5 div.sk-label:hover label.sk-toggleable__label {\n",
              "  color: var(--sklearn-color-text);\n",
              "  background-color: var(--sklearn-color-unfitted-level-2);\n",
              "}\n",
              "\n",
              "/* Label box, darken color on hover, fitted */\n",
              "#sk-container-id-5 div.sk-label.fitted:hover label.sk-toggleable__label.fitted {\n",
              "  color: var(--sklearn-color-text);\n",
              "  background-color: var(--sklearn-color-fitted-level-2);\n",
              "}\n",
              "\n",
              "/* Estimator label */\n",
              "\n",
              "#sk-container-id-5 div.sk-label label {\n",
              "  font-family: monospace;\n",
              "  font-weight: bold;\n",
              "  display: inline-block;\n",
              "  line-height: 1.2em;\n",
              "}\n",
              "\n",
              "#sk-container-id-5 div.sk-label-container {\n",
              "  text-align: center;\n",
              "}\n",
              "\n",
              "/* Estimator-specific */\n",
              "#sk-container-id-5 div.sk-estimator {\n",
              "  font-family: monospace;\n",
              "  border: 1px dotted var(--sklearn-color-border-box);\n",
              "  border-radius: 0.25em;\n",
              "  box-sizing: border-box;\n",
              "  margin-bottom: 0.5em;\n",
              "  /* unfitted */\n",
              "  background-color: var(--sklearn-color-unfitted-level-0);\n",
              "}\n",
              "\n",
              "#sk-container-id-5 div.sk-estimator.fitted {\n",
              "  /* fitted */\n",
              "  background-color: var(--sklearn-color-fitted-level-0);\n",
              "}\n",
              "\n",
              "/* on hover */\n",
              "#sk-container-id-5 div.sk-estimator:hover {\n",
              "  /* unfitted */\n",
              "  background-color: var(--sklearn-color-unfitted-level-2);\n",
              "}\n",
              "\n",
              "#sk-container-id-5 div.sk-estimator.fitted:hover {\n",
              "  /* fitted */\n",
              "  background-color: var(--sklearn-color-fitted-level-2);\n",
              "}\n",
              "\n",
              "/* Specification for estimator info (e.g. \"i\" and \"?\") */\n",
              "\n",
              "/* Common style for \"i\" and \"?\" */\n",
              "\n",
              ".sk-estimator-doc-link,\n",
              "a:link.sk-estimator-doc-link,\n",
              "a:visited.sk-estimator-doc-link {\n",
              "  float: right;\n",
              "  font-size: smaller;\n",
              "  line-height: 1em;\n",
              "  font-family: monospace;\n",
              "  background-color: var(--sklearn-color-background);\n",
              "  border-radius: 1em;\n",
              "  height: 1em;\n",
              "  width: 1em;\n",
              "  text-decoration: none !important;\n",
              "  margin-left: 1ex;\n",
              "  /* unfitted */\n",
              "  border: var(--sklearn-color-unfitted-level-1) 1pt solid;\n",
              "  color: var(--sklearn-color-unfitted-level-1);\n",
              "}\n",
              "\n",
              ".sk-estimator-doc-link.fitted,\n",
              "a:link.sk-estimator-doc-link.fitted,\n",
              "a:visited.sk-estimator-doc-link.fitted {\n",
              "  /* fitted */\n",
              "  border: var(--sklearn-color-fitted-level-1) 1pt solid;\n",
              "  color: var(--sklearn-color-fitted-level-1);\n",
              "}\n",
              "\n",
              "/* On hover */\n",
              "div.sk-estimator:hover .sk-estimator-doc-link:hover,\n",
              ".sk-estimator-doc-link:hover,\n",
              "div.sk-label-container:hover .sk-estimator-doc-link:hover,\n",
              ".sk-estimator-doc-link:hover {\n",
              "  /* unfitted */\n",
              "  background-color: var(--sklearn-color-unfitted-level-3);\n",
              "  color: var(--sklearn-color-background);\n",
              "  text-decoration: none;\n",
              "}\n",
              "\n",
              "div.sk-estimator.fitted:hover .sk-estimator-doc-link.fitted:hover,\n",
              ".sk-estimator-doc-link.fitted:hover,\n",
              "div.sk-label-container:hover .sk-estimator-doc-link.fitted:hover,\n",
              ".sk-estimator-doc-link.fitted:hover {\n",
              "  /* fitted */\n",
              "  background-color: var(--sklearn-color-fitted-level-3);\n",
              "  color: var(--sklearn-color-background);\n",
              "  text-decoration: none;\n",
              "}\n",
              "\n",
              "/* Span, style for the box shown on hovering the info icon */\n",
              ".sk-estimator-doc-link span {\n",
              "  display: none;\n",
              "  z-index: 9999;\n",
              "  position: relative;\n",
              "  font-weight: normal;\n",
              "  right: .2ex;\n",
              "  padding: .5ex;\n",
              "  margin: .5ex;\n",
              "  width: min-content;\n",
              "  min-width: 20ex;\n",
              "  max-width: 50ex;\n",
              "  color: var(--sklearn-color-text);\n",
              "  box-shadow: 2pt 2pt 4pt #999;\n",
              "  /* unfitted */\n",
              "  background: var(--sklearn-color-unfitted-level-0);\n",
              "  border: .5pt solid var(--sklearn-color-unfitted-level-3);\n",
              "}\n",
              "\n",
              ".sk-estimator-doc-link.fitted span {\n",
              "  /* fitted */\n",
              "  background: var(--sklearn-color-fitted-level-0);\n",
              "  border: var(--sklearn-color-fitted-level-3);\n",
              "}\n",
              "\n",
              ".sk-estimator-doc-link:hover span {\n",
              "  display: block;\n",
              "}\n",
              "\n",
              "/* \"?\"-specific style due to the `<a>` HTML tag */\n",
              "\n",
              "#sk-container-id-5 a.estimator_doc_link {\n",
              "  float: right;\n",
              "  font-size: 1rem;\n",
              "  line-height: 1em;\n",
              "  font-family: monospace;\n",
              "  background-color: var(--sklearn-color-background);\n",
              "  border-radius: 1rem;\n",
              "  height: 1rem;\n",
              "  width: 1rem;\n",
              "  text-decoration: none;\n",
              "  /* unfitted */\n",
              "  color: var(--sklearn-color-unfitted-level-1);\n",
              "  border: var(--sklearn-color-unfitted-level-1) 1pt solid;\n",
              "}\n",
              "\n",
              "#sk-container-id-5 a.estimator_doc_link.fitted {\n",
              "  /* fitted */\n",
              "  border: var(--sklearn-color-fitted-level-1) 1pt solid;\n",
              "  color: var(--sklearn-color-fitted-level-1);\n",
              "}\n",
              "\n",
              "/* On hover */\n",
              "#sk-container-id-5 a.estimator_doc_link:hover {\n",
              "  /* unfitted */\n",
              "  background-color: var(--sklearn-color-unfitted-level-3);\n",
              "  color: var(--sklearn-color-background);\n",
              "  text-decoration: none;\n",
              "}\n",
              "\n",
              "#sk-container-id-5 a.estimator_doc_link.fitted:hover {\n",
              "  /* fitted */\n",
              "  background-color: var(--sklearn-color-fitted-level-3);\n",
              "}\n",
              "</style><div id=\"sk-container-id-5\" class=\"sk-top-container\"><div class=\"sk-text-repr-fallback\"><pre>RandomForestClassifier(random_state=42)</pre><b>In a Jupyter environment, please rerun this cell to show the HTML representation or trust the notebook. <br />On GitHub, the HTML representation is unable to render, please try loading this page with nbviewer.org.</b></div><div class=\"sk-container\" hidden><div class=\"sk-item\"><div class=\"sk-estimator fitted sk-toggleable\"><input class=\"sk-toggleable__control sk-hidden--visually\" id=\"sk-estimator-id-5\" type=\"checkbox\" checked><label for=\"sk-estimator-id-5\" class=\"sk-toggleable__label fitted sk-toggleable__label-arrow fitted\">&nbsp;&nbsp;RandomForestClassifier<a class=\"sk-estimator-doc-link fitted\" rel=\"noreferrer\" target=\"_blank\" href=\"https://scikit-learn.org/1.5/modules/generated/sklearn.ensemble.RandomForestClassifier.html\">?<span>Documentation for RandomForestClassifier</span></a><span class=\"sk-estimator-doc-link fitted\">i<span>Fitted</span></span></label><div class=\"sk-toggleable__content fitted\"><pre>RandomForestClassifier(random_state=42)</pre></div> </div></div></div></div>"
            ],
            "text/plain": [
              "RandomForestClassifier(random_state=42)"
            ]
          },
          "execution_count": 44,
          "metadata": {},
          "output_type": "execute_result"
        }
      ],
      "source": [
        "#Train models\n",
        "rf_model = RandomForestClassifier(random_state=42)\n",
        "#training the model\n",
        "rf_model.fit(X_train_scaled ,y_train)\n"
      ]
    },
    {
      "cell_type": "markdown",
      "metadata": {
        "id": "-_PmHI6K27PL"
      },
      "source": [
        "The last model we setup and train is the Adaboost"
      ]
    },
    {
      "cell_type": "code",
      "execution_count": null,
      "metadata": {
        "id": "lDC-UyWK27PL",
        "outputId": "3064004b-b03b-491c-83bb-6c96c5833f8e"
      },
      "outputs": [
        {
          "data": {
            "text/html": [
              "<style>#sk-container-id-6 {\n",
              "  /* Definition of color scheme common for light and dark mode */\n",
              "  --sklearn-color-text: black;\n",
              "  --sklearn-color-line: gray;\n",
              "  /* Definition of color scheme for unfitted estimators */\n",
              "  --sklearn-color-unfitted-level-0: #fff5e6;\n",
              "  --sklearn-color-unfitted-level-1: #f6e4d2;\n",
              "  --sklearn-color-unfitted-level-2: #ffe0b3;\n",
              "  --sklearn-color-unfitted-level-3: chocolate;\n",
              "  /* Definition of color scheme for fitted estimators */\n",
              "  --sklearn-color-fitted-level-0: #f0f8ff;\n",
              "  --sklearn-color-fitted-level-1: #d4ebff;\n",
              "  --sklearn-color-fitted-level-2: #b3dbfd;\n",
              "  --sklearn-color-fitted-level-3: cornflowerblue;\n",
              "\n",
              "  /* Specific color for light theme */\n",
              "  --sklearn-color-text-on-default-background: var(--sg-text-color, var(--theme-code-foreground, var(--jp-content-font-color1, black)));\n",
              "  --sklearn-color-background: var(--sg-background-color, var(--theme-background, var(--jp-layout-color0, white)));\n",
              "  --sklearn-color-border-box: var(--sg-text-color, var(--theme-code-foreground, var(--jp-content-font-color1, black)));\n",
              "  --sklearn-color-icon: #696969;\n",
              "\n",
              "  @media (prefers-color-scheme: dark) {\n",
              "    /* Redefinition of color scheme for dark theme */\n",
              "    --sklearn-color-text-on-default-background: var(--sg-text-color, var(--theme-code-foreground, var(--jp-content-font-color1, white)));\n",
              "    --sklearn-color-background: var(--sg-background-color, var(--theme-background, var(--jp-layout-color0, #111)));\n",
              "    --sklearn-color-border-box: var(--sg-text-color, var(--theme-code-foreground, var(--jp-content-font-color1, white)));\n",
              "    --sklearn-color-icon: #878787;\n",
              "  }\n",
              "}\n",
              "\n",
              "#sk-container-id-6 {\n",
              "  color: var(--sklearn-color-text);\n",
              "}\n",
              "\n",
              "#sk-container-id-6 pre {\n",
              "  padding: 0;\n",
              "}\n",
              "\n",
              "#sk-container-id-6 input.sk-hidden--visually {\n",
              "  border: 0;\n",
              "  clip: rect(1px 1px 1px 1px);\n",
              "  clip: rect(1px, 1px, 1px, 1px);\n",
              "  height: 1px;\n",
              "  margin: -1px;\n",
              "  overflow: hidden;\n",
              "  padding: 0;\n",
              "  position: absolute;\n",
              "  width: 1px;\n",
              "}\n",
              "\n",
              "#sk-container-id-6 div.sk-dashed-wrapped {\n",
              "  border: 1px dashed var(--sklearn-color-line);\n",
              "  margin: 0 0.4em 0.5em 0.4em;\n",
              "  box-sizing: border-box;\n",
              "  padding-bottom: 0.4em;\n",
              "  background-color: var(--sklearn-color-background);\n",
              "}\n",
              "\n",
              "#sk-container-id-6 div.sk-container {\n",
              "  /* jupyter's `normalize.less` sets `[hidden] { display: none; }`\n",
              "     but bootstrap.min.css set `[hidden] { display: none !important; }`\n",
              "     so we also need the `!important` here to be able to override the\n",
              "     default hidden behavior on the sphinx rendered scikit-learn.org.\n",
              "     See: https://github.com/scikit-learn/scikit-learn/issues/21755 */\n",
              "  display: inline-block !important;\n",
              "  position: relative;\n",
              "}\n",
              "\n",
              "#sk-container-id-6 div.sk-text-repr-fallback {\n",
              "  display: none;\n",
              "}\n",
              "\n",
              "div.sk-parallel-item,\n",
              "div.sk-serial,\n",
              "div.sk-item {\n",
              "  /* draw centered vertical line to link estimators */\n",
              "  background-image: linear-gradient(var(--sklearn-color-text-on-default-background), var(--sklearn-color-text-on-default-background));\n",
              "  background-size: 2px 100%;\n",
              "  background-repeat: no-repeat;\n",
              "  background-position: center center;\n",
              "}\n",
              "\n",
              "/* Parallel-specific style estimator block */\n",
              "\n",
              "#sk-container-id-6 div.sk-parallel-item::after {\n",
              "  content: \"\";\n",
              "  width: 100%;\n",
              "  border-bottom: 2px solid var(--sklearn-color-text-on-default-background);\n",
              "  flex-grow: 1;\n",
              "}\n",
              "\n",
              "#sk-container-id-6 div.sk-parallel {\n",
              "  display: flex;\n",
              "  align-items: stretch;\n",
              "  justify-content: center;\n",
              "  background-color: var(--sklearn-color-background);\n",
              "  position: relative;\n",
              "}\n",
              "\n",
              "#sk-container-id-6 div.sk-parallel-item {\n",
              "  display: flex;\n",
              "  flex-direction: column;\n",
              "}\n",
              "\n",
              "#sk-container-id-6 div.sk-parallel-item:first-child::after {\n",
              "  align-self: flex-end;\n",
              "  width: 50%;\n",
              "}\n",
              "\n",
              "#sk-container-id-6 div.sk-parallel-item:last-child::after {\n",
              "  align-self: flex-start;\n",
              "  width: 50%;\n",
              "}\n",
              "\n",
              "#sk-container-id-6 div.sk-parallel-item:only-child::after {\n",
              "  width: 0;\n",
              "}\n",
              "\n",
              "/* Serial-specific style estimator block */\n",
              "\n",
              "#sk-container-id-6 div.sk-serial {\n",
              "  display: flex;\n",
              "  flex-direction: column;\n",
              "  align-items: center;\n",
              "  background-color: var(--sklearn-color-background);\n",
              "  padding-right: 1em;\n",
              "  padding-left: 1em;\n",
              "}\n",
              "\n",
              "\n",
              "/* Toggleable style: style used for estimator/Pipeline/ColumnTransformer box that is\n",
              "clickable and can be expanded/collapsed.\n",
              "- Pipeline and ColumnTransformer use this feature and define the default style\n",
              "- Estimators will overwrite some part of the style using the `sk-estimator` class\n",
              "*/\n",
              "\n",
              "/* Pipeline and ColumnTransformer style (default) */\n",
              "\n",
              "#sk-container-id-6 div.sk-toggleable {\n",
              "  /* Default theme specific background. It is overwritten whether we have a\n",
              "  specific estimator or a Pipeline/ColumnTransformer */\n",
              "  background-color: var(--sklearn-color-background);\n",
              "}\n",
              "\n",
              "/* Toggleable label */\n",
              "#sk-container-id-6 label.sk-toggleable__label {\n",
              "  cursor: pointer;\n",
              "  display: block;\n",
              "  width: 100%;\n",
              "  margin-bottom: 0;\n",
              "  padding: 0.5em;\n",
              "  box-sizing: border-box;\n",
              "  text-align: center;\n",
              "}\n",
              "\n",
              "#sk-container-id-6 label.sk-toggleable__label-arrow:before {\n",
              "  /* Arrow on the left of the label */\n",
              "  content: \"▸\";\n",
              "  float: left;\n",
              "  margin-right: 0.25em;\n",
              "  color: var(--sklearn-color-icon);\n",
              "}\n",
              "\n",
              "#sk-container-id-6 label.sk-toggleable__label-arrow:hover:before {\n",
              "  color: var(--sklearn-color-text);\n",
              "}\n",
              "\n",
              "/* Toggleable content - dropdown */\n",
              "\n",
              "#sk-container-id-6 div.sk-toggleable__content {\n",
              "  max-height: 0;\n",
              "  max-width: 0;\n",
              "  overflow: hidden;\n",
              "  text-align: left;\n",
              "  /* unfitted */\n",
              "  background-color: var(--sklearn-color-unfitted-level-0);\n",
              "}\n",
              "\n",
              "#sk-container-id-6 div.sk-toggleable__content.fitted {\n",
              "  /* fitted */\n",
              "  background-color: var(--sklearn-color-fitted-level-0);\n",
              "}\n",
              "\n",
              "#sk-container-id-6 div.sk-toggleable__content pre {\n",
              "  margin: 0.2em;\n",
              "  border-radius: 0.25em;\n",
              "  color: var(--sklearn-color-text);\n",
              "  /* unfitted */\n",
              "  background-color: var(--sklearn-color-unfitted-level-0);\n",
              "}\n",
              "\n",
              "#sk-container-id-6 div.sk-toggleable__content.fitted pre {\n",
              "  /* unfitted */\n",
              "  background-color: var(--sklearn-color-fitted-level-0);\n",
              "}\n",
              "\n",
              "#sk-container-id-6 input.sk-toggleable__control:checked~div.sk-toggleable__content {\n",
              "  /* Expand drop-down */\n",
              "  max-height: 200px;\n",
              "  max-width: 100%;\n",
              "  overflow: auto;\n",
              "}\n",
              "\n",
              "#sk-container-id-6 input.sk-toggleable__control:checked~label.sk-toggleable__label-arrow:before {\n",
              "  content: \"▾\";\n",
              "}\n",
              "\n",
              "/* Pipeline/ColumnTransformer-specific style */\n",
              "\n",
              "#sk-container-id-6 div.sk-label input.sk-toggleable__control:checked~label.sk-toggleable__label {\n",
              "  color: var(--sklearn-color-text);\n",
              "  background-color: var(--sklearn-color-unfitted-level-2);\n",
              "}\n",
              "\n",
              "#sk-container-id-6 div.sk-label.fitted input.sk-toggleable__control:checked~label.sk-toggleable__label {\n",
              "  background-color: var(--sklearn-color-fitted-level-2);\n",
              "}\n",
              "\n",
              "/* Estimator-specific style */\n",
              "\n",
              "/* Colorize estimator box */\n",
              "#sk-container-id-6 div.sk-estimator input.sk-toggleable__control:checked~label.sk-toggleable__label {\n",
              "  /* unfitted */\n",
              "  background-color: var(--sklearn-color-unfitted-level-2);\n",
              "}\n",
              "\n",
              "#sk-container-id-6 div.sk-estimator.fitted input.sk-toggleable__control:checked~label.sk-toggleable__label {\n",
              "  /* fitted */\n",
              "  background-color: var(--sklearn-color-fitted-level-2);\n",
              "}\n",
              "\n",
              "#sk-container-id-6 div.sk-label label.sk-toggleable__label,\n",
              "#sk-container-id-6 div.sk-label label {\n",
              "  /* The background is the default theme color */\n",
              "  color: var(--sklearn-color-text-on-default-background);\n",
              "}\n",
              "\n",
              "/* On hover, darken the color of the background */\n",
              "#sk-container-id-6 div.sk-label:hover label.sk-toggleable__label {\n",
              "  color: var(--sklearn-color-text);\n",
              "  background-color: var(--sklearn-color-unfitted-level-2);\n",
              "}\n",
              "\n",
              "/* Label box, darken color on hover, fitted */\n",
              "#sk-container-id-6 div.sk-label.fitted:hover label.sk-toggleable__label.fitted {\n",
              "  color: var(--sklearn-color-text);\n",
              "  background-color: var(--sklearn-color-fitted-level-2);\n",
              "}\n",
              "\n",
              "/* Estimator label */\n",
              "\n",
              "#sk-container-id-6 div.sk-label label {\n",
              "  font-family: monospace;\n",
              "  font-weight: bold;\n",
              "  display: inline-block;\n",
              "  line-height: 1.2em;\n",
              "}\n",
              "\n",
              "#sk-container-id-6 div.sk-label-container {\n",
              "  text-align: center;\n",
              "}\n",
              "\n",
              "/* Estimator-specific */\n",
              "#sk-container-id-6 div.sk-estimator {\n",
              "  font-family: monospace;\n",
              "  border: 1px dotted var(--sklearn-color-border-box);\n",
              "  border-radius: 0.25em;\n",
              "  box-sizing: border-box;\n",
              "  margin-bottom: 0.5em;\n",
              "  /* unfitted */\n",
              "  background-color: var(--sklearn-color-unfitted-level-0);\n",
              "}\n",
              "\n",
              "#sk-container-id-6 div.sk-estimator.fitted {\n",
              "  /* fitted */\n",
              "  background-color: var(--sklearn-color-fitted-level-0);\n",
              "}\n",
              "\n",
              "/* on hover */\n",
              "#sk-container-id-6 div.sk-estimator:hover {\n",
              "  /* unfitted */\n",
              "  background-color: var(--sklearn-color-unfitted-level-2);\n",
              "}\n",
              "\n",
              "#sk-container-id-6 div.sk-estimator.fitted:hover {\n",
              "  /* fitted */\n",
              "  background-color: var(--sklearn-color-fitted-level-2);\n",
              "}\n",
              "\n",
              "/* Specification for estimator info (e.g. \"i\" and \"?\") */\n",
              "\n",
              "/* Common style for \"i\" and \"?\" */\n",
              "\n",
              ".sk-estimator-doc-link,\n",
              "a:link.sk-estimator-doc-link,\n",
              "a:visited.sk-estimator-doc-link {\n",
              "  float: right;\n",
              "  font-size: smaller;\n",
              "  line-height: 1em;\n",
              "  font-family: monospace;\n",
              "  background-color: var(--sklearn-color-background);\n",
              "  border-radius: 1em;\n",
              "  height: 1em;\n",
              "  width: 1em;\n",
              "  text-decoration: none !important;\n",
              "  margin-left: 1ex;\n",
              "  /* unfitted */\n",
              "  border: var(--sklearn-color-unfitted-level-1) 1pt solid;\n",
              "  color: var(--sklearn-color-unfitted-level-1);\n",
              "}\n",
              "\n",
              ".sk-estimator-doc-link.fitted,\n",
              "a:link.sk-estimator-doc-link.fitted,\n",
              "a:visited.sk-estimator-doc-link.fitted {\n",
              "  /* fitted */\n",
              "  border: var(--sklearn-color-fitted-level-1) 1pt solid;\n",
              "  color: var(--sklearn-color-fitted-level-1);\n",
              "}\n",
              "\n",
              "/* On hover */\n",
              "div.sk-estimator:hover .sk-estimator-doc-link:hover,\n",
              ".sk-estimator-doc-link:hover,\n",
              "div.sk-label-container:hover .sk-estimator-doc-link:hover,\n",
              ".sk-estimator-doc-link:hover {\n",
              "  /* unfitted */\n",
              "  background-color: var(--sklearn-color-unfitted-level-3);\n",
              "  color: var(--sklearn-color-background);\n",
              "  text-decoration: none;\n",
              "}\n",
              "\n",
              "div.sk-estimator.fitted:hover .sk-estimator-doc-link.fitted:hover,\n",
              ".sk-estimator-doc-link.fitted:hover,\n",
              "div.sk-label-container:hover .sk-estimator-doc-link.fitted:hover,\n",
              ".sk-estimator-doc-link.fitted:hover {\n",
              "  /* fitted */\n",
              "  background-color: var(--sklearn-color-fitted-level-3);\n",
              "  color: var(--sklearn-color-background);\n",
              "  text-decoration: none;\n",
              "}\n",
              "\n",
              "/* Span, style for the box shown on hovering the info icon */\n",
              ".sk-estimator-doc-link span {\n",
              "  display: none;\n",
              "  z-index: 9999;\n",
              "  position: relative;\n",
              "  font-weight: normal;\n",
              "  right: .2ex;\n",
              "  padding: .5ex;\n",
              "  margin: .5ex;\n",
              "  width: min-content;\n",
              "  min-width: 20ex;\n",
              "  max-width: 50ex;\n",
              "  color: var(--sklearn-color-text);\n",
              "  box-shadow: 2pt 2pt 4pt #999;\n",
              "  /* unfitted */\n",
              "  background: var(--sklearn-color-unfitted-level-0);\n",
              "  border: .5pt solid var(--sklearn-color-unfitted-level-3);\n",
              "}\n",
              "\n",
              ".sk-estimator-doc-link.fitted span {\n",
              "  /* fitted */\n",
              "  background: var(--sklearn-color-fitted-level-0);\n",
              "  border: var(--sklearn-color-fitted-level-3);\n",
              "}\n",
              "\n",
              ".sk-estimator-doc-link:hover span {\n",
              "  display: block;\n",
              "}\n",
              "\n",
              "/* \"?\"-specific style due to the `<a>` HTML tag */\n",
              "\n",
              "#sk-container-id-6 a.estimator_doc_link {\n",
              "  float: right;\n",
              "  font-size: 1rem;\n",
              "  line-height: 1em;\n",
              "  font-family: monospace;\n",
              "  background-color: var(--sklearn-color-background);\n",
              "  border-radius: 1rem;\n",
              "  height: 1rem;\n",
              "  width: 1rem;\n",
              "  text-decoration: none;\n",
              "  /* unfitted */\n",
              "  color: var(--sklearn-color-unfitted-level-1);\n",
              "  border: var(--sklearn-color-unfitted-level-1) 1pt solid;\n",
              "}\n",
              "\n",
              "#sk-container-id-6 a.estimator_doc_link.fitted {\n",
              "  /* fitted */\n",
              "  border: var(--sklearn-color-fitted-level-1) 1pt solid;\n",
              "  color: var(--sklearn-color-fitted-level-1);\n",
              "}\n",
              "\n",
              "/* On hover */\n",
              "#sk-container-id-6 a.estimator_doc_link:hover {\n",
              "  /* unfitted */\n",
              "  background-color: var(--sklearn-color-unfitted-level-3);\n",
              "  color: var(--sklearn-color-background);\n",
              "  text-decoration: none;\n",
              "}\n",
              "\n",
              "#sk-container-id-6 a.estimator_doc_link.fitted:hover {\n",
              "  /* fitted */\n",
              "  background-color: var(--sklearn-color-fitted-level-3);\n",
              "}\n",
              "</style><div id=\"sk-container-id-6\" class=\"sk-top-container\"><div class=\"sk-text-repr-fallback\"><pre>AdaBoostClassifier(algorithm=&#x27;SAMME&#x27;, n_estimators=100, random_state=42)</pre><b>In a Jupyter environment, please rerun this cell to show the HTML representation or trust the notebook. <br />On GitHub, the HTML representation is unable to render, please try loading this page with nbviewer.org.</b></div><div class=\"sk-container\" hidden><div class=\"sk-item\"><div class=\"sk-estimator fitted sk-toggleable\"><input class=\"sk-toggleable__control sk-hidden--visually\" id=\"sk-estimator-id-6\" type=\"checkbox\" checked><label for=\"sk-estimator-id-6\" class=\"sk-toggleable__label fitted sk-toggleable__label-arrow fitted\">&nbsp;&nbsp;AdaBoostClassifier<a class=\"sk-estimator-doc-link fitted\" rel=\"noreferrer\" target=\"_blank\" href=\"https://scikit-learn.org/1.5/modules/generated/sklearn.ensemble.AdaBoostClassifier.html\">?<span>Documentation for AdaBoostClassifier</span></a><span class=\"sk-estimator-doc-link fitted\">i<span>Fitted</span></span></label><div class=\"sk-toggleable__content fitted\"><pre>AdaBoostClassifier(algorithm=&#x27;SAMME&#x27;, n_estimators=100, random_state=42)</pre></div> </div></div></div></div>"
            ],
            "text/plain": [
              "AdaBoostClassifier(algorithm='SAMME', n_estimators=100, random_state=42)"
            ]
          },
          "execution_count": 45,
          "metadata": {},
          "output_type": "execute_result"
        }
      ],
      "source": [
        "#Train models\n",
        "ada_classifier = AdaBoostClassifier(n_estimators=100,random_state=42, algorithm=\"SAMME\")\n",
        "#training the model\n",
        "ada_classifier.fit(X_train_scaled,y_train)"
      ]
    },
    {
      "cell_type": "markdown",
      "metadata": {
        "id": "pzWtrBL427PM"
      },
      "source": [
        "## Evaluation of the models\n",
        "To better understand how the trained models are performing we have to used various metrices to access the modesl performance on the validation set. To do this we would first define two function namely evaluate_model and plot_learning_curve which will basically display the classification report and display the confusion matrix and the plot_learning_curve will be used to check if the model is overfitting ."
      ]
    },
    {
      "cell_type": "markdown",
      "metadata": {
        "id": "7OJwiNlG27PM"
      },
      "source": [
        "creating the the evaluate_model function"
      ]
    },
    {
      "cell_type": "code",
      "execution_count": null,
      "metadata": {
        "id": "6sT1i5u627PM"
      },
      "outputs": [],
      "source": [
        "def evaluate_model(model, X_val,y_val):\n",
        "    predictions = model.predict(X_val)\n",
        "\n",
        "    #Print the classification report\n",
        "    accuracy_report = classification_report(y_val, predictions)\n",
        "    print(\"Classification report:\\n\" , accuracy_report)\n",
        "\n",
        "    # #Display the ROC curve\n",
        "    # RocCurveDisplay.from_predictions(y_val,predictions)\n",
        "\n",
        "    #Display the Recall and Precision\n",
        "    # PrecisionRecallDisplay.from_estimator(model, X_val,y_val, plot_chance_level=True)\n",
        "\n",
        "    #Compute and display the confusion matrix\n",
        "    cm = confusion_matrix(y_val, predictions, labels=model.classes_,normalize='true')\n",
        "    disp = ConfusionMatrixDisplay(confusion_matrix=cm, display_labels=model.classes_)\n",
        "    disp.plot()\n",
        "\n",
        "    return None"
      ]
    },
    {
      "cell_type": "markdown",
      "metadata": {
        "id": "Koue0FUBhUe9"
      },
      "source": [
        "### Making prediction and Evaluating the support vector classifier model using the Validation data set\n"
      ]
    },
    {
      "cell_type": "code",
      "execution_count": null,
      "metadata": {
        "id": "8ABVD2WI27PN",
        "outputId": "93de9bf1-593b-4958-b4c5-53624d136923"
      },
      "outputs": [
        {
          "name": "stdout",
          "output_type": "stream",
          "text": [
            "Classification report:\n",
            "               precision    recall  f1-score   support\n",
            "\n",
            "           0       0.98      0.67      0.80       372\n",
            "           1       0.33      0.94      0.49        64\n",
            "\n",
            "    accuracy                           0.71       436\n",
            "   macro avg       0.66      0.80      0.64       436\n",
            "weighted avg       0.89      0.71      0.75       436\n",
            "\n"
          ]
        },
        {
          "data": {
            "image/png": "[encoded data removed]",
            "text/plain": [
              "<Figure size 640x480 with 2 Axes>"
            ]
          },
          "metadata": {},
          "output_type": "display_data"
        }
      ],
      "source": [
        "evaluate_model(svc_model, X_val_scaled_task_1,y_val)"
      ]
    },
    {
      "cell_type": "markdown",
      "metadata": {
        "id": "KhZxAaOl27PN"
      },
      "source": [
        "### Making prediction and Evaluating the random forest classifier model using the Validation data set"
      ]
    },
    {
      "cell_type": "code",
      "execution_count": null,
      "metadata": {
        "colab": {
          "base_uri": "https://localhost:8080/"
        },
        "id": "ysdCXUy78vRm",
        "outputId": "dec80abe-f00c-42cf-95a0-4bcc38525ce1"
      },
      "outputs": [
        {
          "name": "stdout",
          "output_type": "stream",
          "text": [
            "Classification report:\n",
            "               precision    recall  f1-score   support\n",
            "\n",
            "           0       0.97      0.66      0.79       372\n",
            "           1       0.31      0.89      0.46        64\n",
            "\n",
            "    accuracy                           0.69       436\n",
            "   macro avg       0.64      0.77      0.62       436\n",
            "weighted avg       0.87      0.69      0.74       436\n",
            "\n"
          ]
        },
        {
          "data": {
            "image/png": "[encoded data removed]",
            "text/plain": [
              "<Figure size 640x480 with 2 Axes>"
            ]
          },
          "metadata": {},
          "output_type": "display_data"
        }
      ],
      "source": [
        "#Making predictions and evaluating the support vector classifier\n",
        "\n",
        "evaluate_model(rf_model, X_val_scaled_task_1,y_val)"
      ]
    },
    {
      "cell_type": "markdown",
      "metadata": {
        "id": "071JHGNU27PN"
      },
      "source": [
        "### Making prediction and Evaluating the adaboost classifier model using the Validation data set\n"
      ]
    },
    {
      "cell_type": "code",
      "execution_count": null,
      "metadata": {
        "id": "GNPZcYa727PN",
        "outputId": "045fba94-9399-4668-dc33-5749954c8fa3"
      },
      "outputs": [
        {
          "name": "stdout",
          "output_type": "stream",
          "text": [
            "Classification report:\n",
            "               precision    recall  f1-score   support\n",
            "\n",
            "           0       0.98      0.45      0.61       372\n",
            "           1       0.23      0.94      0.36        64\n",
            "\n",
            "    accuracy                           0.52       436\n",
            "   macro avg       0.60      0.69      0.49       436\n",
            "weighted avg       0.87      0.52      0.58       436\n",
            "\n"
          ]
        },
        {
          "data": {
            "image/png": "[encoded data removed]",
            "text/plain": [
              "<Figure size 640x480 with 2 Axes>"
            ]
          },
          "metadata": {},
          "output_type": "display_data"
        }
      ],
      "source": [
        "evaluate_model(ada_classifier, X_val_scaled_task_1,y_val)"
      ]
    },
    {
      "cell_type": "markdown",
      "metadata": {
        "id": "GkylRma727PO"
      },
      "source": [
        "After evualuating the models, we observed that the support vector classifier(svc) performed well as compared to the random forest(rf) and adaboost(ada). On accuracy score , svc scored 71% as compared to rf 61% and ada of 52%. However the models seems not to be performaning a well on predicting malignent cases. Even though the models seems to be doing well on  predicting benign cases it appears to have challenges with malignent cases. With svc still leading with 33% of precision of predicting malignent as malignent, rf following with 31% and ada is doing 23% precision.To address this issues, we re-train the model again but this time we use  cross validation with 5 folds and also tune the hyperparameters using grid search to find the best parameters to used for the model. Using cross validation will not only help to make the model robust but it allow you to check how stable and its ability to generalize."
      ]
    },
    {
      "cell_type": "markdown",
      "metadata": {
        "id": "cF9NlDE327PO"
      },
      "source": [
        "### Hyperparameter Tunning\n",
        "we use grid search due to it simplist nature to implement and its ability to allow to exhaustively check every combinations of hyperparameter in the specified grid as discussed in this article [5]."
      ]
    },
    {
      "cell_type": "code",
      "execution_count": null,
      "metadata": {
        "id": "y2wh1H-b27PO",
        "outputId": "18786543-8205-480d-f236-61a57f890f70"
      },
      "outputs": [
        {
          "name": "stdout",
          "output_type": "stream",
          "text": [
            "Fitting 5 folds for each of 18 candidates, totalling 90 fits\n",
            "Best Parameters:  {'C': 1, 'gamma': 'scale', 'kernel': 'rbf'}\n"
          ]
        }
      ],
      "source": [
        "\n",
        "#Dictionary to hold the grid\n",
        "param_grid_svc = {\n",
        "    'C':[0.1,1,10], #Regularization parameter\n",
        "    'kernel':['rbf','poly','sigmoid'], #Type of kernel\n",
        "    'gamma': ['scale', 'auto'] #Kernel coefficient\n",
        "}\n",
        "\n",
        "#GridSearchCV to test all values for n_neighbors using 5 fold cross validation\n",
        "svc_gs = GridSearchCV(svc_model, param_grid_svc, cv=5, scoring='accuracy',verbose=1, n_jobs=-1)\n",
        "\n",
        "#Fit model to data\n",
        "svc_gs.fit(X_train_scaled, y_train)\n",
        "\n",
        "#Checking the performing n_neigbors value\n",
        "print(\"Best Parameters: \", svc_gs.best_params_)"
      ]
    },
    {
      "cell_type": "markdown",
      "metadata": {
        "id": "LtnkVDie27PP"
      },
      "source": [
        "Searching the best parameters for Random Forset classifier"
      ]
    },
    {
      "cell_type": "code",
      "execution_count": null,
      "metadata": {
        "id": "JxxXr97W27PP",
        "outputId": "28731398-4a1a-4b4e-aa25-3ce0e3509c35"
      },
      "outputs": [
        {
          "name": "stdout",
          "output_type": "stream",
          "text": [
            "Fitting 5 folds for each of 144 candidates, totalling 720 fits\n",
            "Best Parameters:  {'max_depth': 10, 'max_features': 'sqrt', 'min_samples_split': 2, 'n_estimators': 200}\n"
          ]
        }
      ],
      "source": [
        "#Dictionary to hold the grid\n",
        "param_grid_rf = {\n",
        "    'n_estimators':[10,50,100,200],\n",
        "    'max_features':[None,'sqrt','log2'],\n",
        "    'max_depth': [None,10,20,30],\n",
        "    'min_samples_split': [2,5,10]\n",
        "}\n",
        "\n",
        "#GridSearchCV to test all values\n",
        "rf_gs = GridSearchCV(estimator=RandomForestClassifier(random_state=42),param_grid=param_grid_rf,cv=5,scoring='accuracy',verbose=1,n_jobs=-1,error_score='raise')\n",
        "\n",
        "#Fit model to data\n",
        "rf_gs.fit(X_train_scaled, y_train)\n",
        "\n",
        "#Checking the performing n_neigbors value\n",
        "print(\"Best Parameters: \", rf_gs.best_params_)"
      ]
    },
    {
      "cell_type": "markdown",
      "metadata": {
        "id": "gPeIwSA727PP"
      },
      "source": [
        "Searching for the best parameter for AdaBoostClassifier"
      ]
    },
    {
      "cell_type": "code",
      "execution_count": null,
      "metadata": {
        "id": "ZSaPOaWv27PP",
        "outputId": "1b4a5149-0aa3-4f46-d30d-2d9ffc519657"
      },
      "outputs": [
        {
          "name": "stdout",
          "output_type": "stream",
          "text": [
            "Fitting 5 folds for each of 9 candidates, totalling 45 fits\n",
            "Best parameters:  {'learning_rate': 1.0, 'n_estimators': 200}\n"
          ]
        }
      ],
      "source": [
        "#Dictionary to hold the grid\n",
        "param_grid_ada = {\n",
        "    'n_estimators':[50,100,200],\n",
        "    'learning_rate':[0.01,0.1,1.0],\n",
        "}\n",
        "\n",
        "#create and instance of the GridSearch  to test all parameters in the grid\n",
        "gd_search_ada = GridSearchCV(\n",
        "    estimator=AdaBoostClassifier(random_state=42,algorithm=\"SAMME\"),\n",
        "    param_grid=param_grid_ada,\n",
        "    cv=5,\n",
        "    scoring=\"accuracy\",\n",
        "    verbose=1\n",
        "    )\n",
        "\n",
        "gd_search_ada.fit(X_train_scaled,y_train)\n",
        "\n",
        "best_classifier =gd_search_ada.best_estimator_\n",
        "\n",
        "print(\"Best parameters: \", gd_search_ada.best_params_)"
      ]
    },
    {
      "cell_type": "markdown",
      "metadata": {
        "id": "R-EHyI2O27PQ"
      },
      "source": [
        "Identifying the best parameters according to the grid search and initialized the models for the cross validation"
      ]
    },
    {
      "cell_type": "code",
      "execution_count": null,
      "metadata": {
        "id": "qqVmS07627PQ"
      },
      "outputs": [],
      "source": [
        "#import the packages\n",
        "from sklearn.metrics import roc_curve, auc\n",
        "#setting up the models\n",
        "svc_tunned_model = svc_gs.best_estimator_\n",
        "rf_tunned_model = rf_gs.best_estimator_\n",
        "ada_tunned_model= gd_search_ada.best_estimator_\n"
      ]
    },
    {
      "cell_type": "markdown",
      "metadata": {
        "id": "cuKfO4xi27PQ"
      },
      "source": [
        "To do the training for all models and compare their performance of all the models on various fold. We defined a function and list of models to be used to perform the cross validation and print out the accuracy per fold and also the mean accuracy for each model in the list."
      ]
    },
    {
      "cell_type": "code",
      "execution_count": null,
      "metadata": {
        "id": "ACWBxuv_27PQ"
      },
      "outputs": [],
      "source": [
        "#importing cross_val_score and KFold from from sklearn\n",
        "from sklearn.model_selection import cross_val_score\n",
        "\n",
        "models =[svc_tunned_model,rf_tunned_model ,ada_tunned_model]\n",
        "\n",
        "def compare_models_cross_validation():\n",
        "    for model in models:\n",
        "        cv_scores = cv_scores = cross_val_score(model, X_train_scaled,y_train, cv=5)\n",
        "        mean_accuracy = (sum(cv_scores)/len(cv_scores))\n",
        "        mean_accuracy = mean_accuracy * 100\n",
        "        mean_accuracy = round(mean_accuracy,2)\n",
        "        print('Cross Validation accuracies for ', model, '= ', cv_scores)\n",
        "        print('Accuray % of the ', model, mean_accuracy)\n",
        "        print('----------------------------------------------------------')\n",
        "\n",
        "\n"
      ]
    },
    {
      "cell_type": "code",
      "execution_count": null,
      "metadata": {
        "id": "zDmKDdje27PR",
        "outputId": "0b6dcf03-e64b-4f0b-d40e-c4bb3b78748f"
      },
      "outputs": [
        {
          "name": "stdout",
          "output_type": "stream",
          "text": [
            "Cross Validation accuracies for  SVC(C=1, probability=True, random_state=42) =  [0.73306773 0.75498008 0.73652695 0.74251497 0.76846307]\n",
            "Accuray % of the  SVC(C=1, probability=True, random_state=42) 74.71\n",
            "----------------------------------------------------------\n",
            "Cross Validation accuracies for  RandomForestClassifier(max_depth=10, n_estimators=200, random_state=42) =  [0.74701195 0.78286853 0.76846307 0.74251497 0.76646707]\n",
            "Accuray % of the  RandomForestClassifier(max_depth=10, n_estimators=200, random_state=42) 76.15\n",
            "----------------------------------------------------------\n",
            "Cross Validation accuracies for  AdaBoostClassifier(algorithm='SAMME', n_estimators=200, random_state=42) =  [0.70916335 0.73306773 0.74650699 0.74451098 0.76646707]\n",
            "Accuray % of the  AdaBoostClassifier(algorithm='SAMME', n_estimators=200, random_state=42) 73.99\n",
            "----------------------------------------------------------\n"
          ]
        }
      ],
      "source": [
        "#running the function to execute the scores and average score for each model\n",
        "compare_models_cross_validation()"
      ]
    },
    {
      "cell_type": "markdown",
      "metadata": {
        "id": "YQjNqYJU27PR"
      },
      "source": []
    },
    {
      "cell_type": "markdown",
      "metadata": {
        "id": "C3zo9yII27PR"
      },
      "source": [
        "From the results of the cross validation using 5 fold, we observed that, the Random Forest classifier out performed all the other models with an average accuracy of 75.67% followed by Support Vector Classifier with 74.71% and the AdaboostClassifier is 73.99%. This makes Random forest idle for classifying the data. Even though Random Forest Classifier appears to be the best model according to the accuracy score. We needed to check the models performance on various training set visually to detect overfitting."
      ]
    },
    {
      "cell_type": "markdown",
      "metadata": {
        "id": "QXitrTpD27PR"
      },
      "source": [
        "To visually inspect the performance of the model as we add more training data and also check if the model is overfitting.We used learning curve to detect whether the model is overfiting and also check it performance. As has been noted by many machine learning practitioners, a constant challenge faced is navigating through overfiting and underfitting. As discused in our leactures Overfitting  can be detected when the model performs very well on the training set but performs poorly on the unseen data thereby making it unable to generalize. Also [6] describe overfiting in his book as when there are high variance in the predicted values (variance describe how scattered your predicted values are in relation to each other) and in contrast underfitting is when there is a high bias (bias refer to the gap between the value predicted by the model and the actual value of the data)\n"
      ]
    },
    {
      "cell_type": "markdown",
      "metadata": {
        "id": "u22mbeXE27PS"
      },
      "source": [
        "We defined a function to plot the learning curve for the Random forest Classifer"
      ]
    },
    {
      "cell_type": "code",
      "execution_count": null,
      "metadata": {
        "id": "t_-kaCeB27PS"
      },
      "outputs": [],
      "source": [
        "#importing learning curve from sklearn\n",
        "from sklearn.model_selection import learning_curve\n",
        "\n",
        "#define a function to plot the learning curve\n",
        "def plot_learning_curve(model, X, y, title):\n",
        "\n",
        "    #generate 5 different sizes to increase the training set from 10% to 100% of the training data\n",
        "    #evaluating the model train score and test score using the accuracy metric\n",
        "    train_sizes, train_scores, test_scores = learning_curve(model, X, y, cv=5, train_sizes=np.linspace(0.1, 1.0, 5), scoring='accuracy')\n",
        "\n",
        "    #Compute the mean and standard deviation of training score across all cross-validation runs for each size of training set\n",
        "    train_scores_mean = np.mean(train_scores, axis=1)\n",
        "    train_scores_std = np.std(train_scores, axis=1)\n",
        "\n",
        "    #Compute the mean and standard deviation of test score across all cross-validation runs for each size of training set\n",
        "    test_scores_mean = np.mean(test_scores, axis=1)\n",
        "    test_scores_std = np.std(test_scores, axis=1)\n",
        "\n",
        "    #set up the plot with a figure and title, and label the axes\n",
        "    plt.figure()\n",
        "    plt.title(title)\n",
        "    plt.xlabel(\"Training examples\")\n",
        "    plt.ylabel(\"Score\")\n",
        "\n",
        "    #Enable grid for the plot for better readability\n",
        "    plt.grid()\n",
        "\n",
        "    #plot the shaded area between mean and standard deviation for training and test scores to visualize the variability of scores\n",
        "    plt.fill_between(train_sizes, train_scores_mean - train_scores_std, train_scores_mean + train_scores_std, alpha=0.1, color=\"r\")\n",
        "    plt.fill_between(train_sizes, test_scores_mean - test_scores_std, test_scores_mean + test_scores_std, alpha=0.1, color=\"g\")\n",
        "\n",
        "    #Plot the mean training and test scores to visualize how they change with the number training examples\n",
        "    plt.plot(train_sizes, train_scores_mean, 'o-', color=\"r\", label=\"Training score\")\n",
        "    plt.plot(train_sizes, test_scores_mean, 'o-', color=\"g\", label=\"Cross-validation score\")\n",
        "\n",
        "    #add the legend to the plot at the best possible location\n",
        "    plt.legend(loc=\"best\")\n",
        "\n",
        "    #return the plot object\n",
        "    return plt"
      ]
    },
    {
      "cell_type": "markdown",
      "metadata": {
        "id": "7x_HCoQ027PS"
      },
      "source": [
        "Plotting the learning curve for the support Vector machine"
      ]
    },
    {
      "cell_type": "code",
      "execution_count": null,
      "metadata": {
        "id": "Prw2y2hb27PS",
        "outputId": "3ead0bf0-4215-4af7-bbc7-663563f69176"
      },
      "outputs": [
        {
          "data": {
            "text/plain": [
              "<module 'matplotlib.pyplot' from 'c:\\\\Users\\\\dell\\\\AppData\\\\Local\\\\Programs\\\\Python\\\\Python311\\\\Lib\\\\site-packages\\\\matplotlib\\\\pyplot.py'>"
            ]
          },
          "execution_count": 57,
          "metadata": {},
          "output_type": "execute_result"
        },
        {
          "data": {
            "image/png": "[encoded data removed]",
            "text/plain": [
              "<Figure size 640x480 with 1 Axes>"
            ]
          },
          "metadata": {},
          "output_type": "display_data"
        }
      ],
      "source": [
        "plot_learning_curve(svc_tunned_model,X_train_scaled,y_train,\"Learning Curve for SVC (Optimized)\")"
      ]
    },
    {
      "cell_type": "markdown",
      "metadata": {
        "id": "W3765tka27PS"
      },
      "source": [
        "Plotting the learning curve for the Random Forest Classifier"
      ]
    },
    {
      "cell_type": "code",
      "execution_count": null,
      "metadata": {
        "id": "EXohiaSY27PT",
        "outputId": "0fc8df2e-6573-4fb3-90c1-eee85894abb9"
      },
      "outputs": [
        {
          "data": {
            "text/plain": [
              "<module 'matplotlib.pyplot' from 'c:\\\\Users\\\\dell\\\\AppData\\\\Local\\\\Programs\\\\Python\\\\Python311\\\\Lib\\\\site-packages\\\\matplotlib\\\\pyplot.py'>"
            ]
          },
          "execution_count": 58,
          "metadata": {},
          "output_type": "execute_result"
        },
        {
          "data": {
            "image/png": "[encoded data removed]",
            "text/plain": [
              "<Figure size 640x480 with 1 Axes>"
            ]
          },
          "metadata": {},
          "output_type": "display_data"
        }
      ],
      "source": [
        "plot_learning_curve(rf_tunned_model ,X_train_scaled,y_train,\"Learning Curve for Random Forest Classifier (Optimized)\")"
      ]
    },
    {
      "cell_type": "markdown",
      "metadata": {
        "id": "bZxS2RVr27PT"
      },
      "source": [
        "Plotting the learning curve for the Adaboost"
      ]
    },
    {
      "cell_type": "code",
      "execution_count": null,
      "metadata": {
        "id": "VkSepbcu27PT",
        "outputId": "d41cb88c-b00c-4e7c-9fa4-0722ba551ceb"
      },
      "outputs": [
        {
          "data": {
            "text/plain": [
              "<module 'matplotlib.pyplot' from 'c:\\\\Users\\\\dell\\\\AppData\\\\Local\\\\Programs\\\\Python\\\\Python311\\\\Lib\\\\site-packages\\\\matplotlib\\\\pyplot.py'>"
            ]
          },
          "execution_count": 59,
          "metadata": {},
          "output_type": "execute_result"
        },
        {
          "data": {
            "image/png": "[encoded data removed]",
            "text/plain": [
              "<Figure size 640x480 with 1 Axes>"
            ]
          },
          "metadata": {},
          "output_type": "display_data"
        }
      ],
      "source": [
        "plot_learning_curve(ada_tunned_model ,X_train_scaled,y_train,\"Learning Curve for Adaboost (Optimized)\")"
      ]
    },
    {
      "cell_type": "markdown",
      "metadata": {
        "id": "KO29TJKy27PT"
      },
      "source": [
        "From the above plots, we observed that SVC and Random Forest shows improvement in closing the gap between training and cross-validation scores as more data is added compared to AdaBoost. Making it more generalized as compared to adaboost.Also, SVC shows more stability in training scores across different training sizes, suggesting it might be less sensitive to variations in the training data compared to AdaBoost and Random Forest. In the case of overfiting, Random Forest even though appears stable and high training score, shows a substantial gap between the training and cross-validation scores, suggesting some overfiting. Adaboost also indicates overfiting at smaller training sizes, which diminishes slightly as more data is added. Based on the learning curve of SVC, the training data is relatively consistent, even as the size of the training data increases and with regards to the cross-validation score starts at about 70% and shows steady increase, reaching to 78% with the addition of more training examples. This shows upward trend suggests that the model is learning to generalized better from the training data."
      ]
    },
    {
      "cell_type": "markdown",
      "metadata": {
        "id": "39j7G7HD27PT"
      },
      "source": [
        "Also we assess the overall effectiveness of the models to distinguishe between the malignent and benign cases we used the AUC-ROC curves.The ROC curve plots the true positive rate (sensitivity) against the false positive rate (specificity) at various thresholds settings."
      ]
    },
    {
      "cell_type": "code",
      "execution_count": null,
      "metadata": {
        "id": "dpIOLFsi27PU",
        "outputId": "8ad73422-ad1a-40db-fb41-a04b1987bad9"
      },
      "outputs": [
        {
          "data": {
            "image/png": "[encoded data removed]",
            "text/plain": [
              "<Figure size 800x400 with 1 Axes>"
            ]
          },
          "metadata": {},
          "output_type": "display_data"
        }
      ],
      "source": [
        "#importing the necessary packages\n",
        "from sklearn.metrics import roc_curve, auc\n",
        "\n",
        "\n",
        "#define the roc_curve function to compute false positive rate, true positive rate and thresholds using roc_curve\n",
        "def plot_roc_curve(model, X, y, label=None):\n",
        "    y_scores = model.predict_proba(X)[:,1]\n",
        "    fpr,tpr,thresholds = roc_curve(y,y_scores)\n",
        "    roc_auc = auc(fpr,tpr)\n",
        "    plt.plot(fpr,tpr,linewidth=2, label=f'{label}(auc={roc_auc:.2f})')\n",
        "\n",
        "#figure size of the graph\n",
        "plt.figure(figsize=(8,4))\n",
        "\n",
        "#calling the function on various models\n",
        "plot_roc_curve(svc_tunned_model,X_val_scaled_task_1,y_val,'SVC tunned')\n",
        "plot_roc_curve(rf_tunned_model,X_val_scaled_task_1,y_val,'Random Forest tunned')\n",
        "plot_roc_curve(ada_tunned_model,X_val_scaled_task_1,y_val,'Adaboost tunned')\n",
        "\n",
        "#set up the plot with a figure and title, and label the axes\n",
        "plt.plot([0,1],[0,1],'k--') #Dashed diagonal\n",
        "plt.axis([0,1,0,1])\n",
        "plt.xlabel('False Positive Rate (1 - Specificity)')\n",
        "plt.ylabel('True Positive Rate (Sensitivity)')\n",
        "plt.title('ROC Curves for various models')\n",
        "plt.legend(loc='lower right')\n",
        "plt.show()"
      ]
    },
    {
      "cell_type": "markdown",
      "metadata": {
        "id": "WjdFehPh27PU"
      },
      "source": [
        "The ROC curves charts indicates that all three  models SVC, Random Forest and AdaBoost perform well in  distinguishing between positive and negative class, with AUC scores significantly above the baseline of random guessing (AUC=0.5).Thus AUC of 0.5 indicates that the model is not learning anything from the features and is simply guesssing the classes randomly as discussed by the article in [7].Among them, the SVC model exhibits the highest performance with an AUC of 93%, following closely by the Random Forest Model of 91% and AdaBoost model of 90%. This suggest that while all the models appears to be effective, the SVC model stands out as the most capable in terms of sensitivity and specifity for the validation dataset"
      ]
    },
    {
      "cell_type": "markdown",
      "metadata": {
        "id": "BKbcRHXB27PU"
      },
      "source": [
        "# Evaluating the models on the test set\n",
        "Even though all the models perform well, we selected Support vector classifier as the adle model due to its ability to mitigate the overfitting comparatively and also able to generalize according to the learning cures. We therefore do the final evaluation using the test set using the support vector classifier"
      ]
    },
    {
      "cell_type": "code",
      "execution_count": null,
      "metadata": {
        "id": "QN2s3aKv27PV",
        "outputId": "4094ae1e-7b54-423e-aef9-1a7a67b6ba51"
      },
      "outputs": [
        {
          "name": "stdout",
          "output_type": "stream",
          "text": [
            "Classification report:\n",
            "               precision    recall  f1-score   support\n",
            "\n",
            "           0       0.94      0.84      0.89       216\n",
            "           1       0.75      0.90      0.82       115\n",
            "\n",
            "    accuracy                           0.86       331\n",
            "   macro avg       0.85      0.87      0.86       331\n",
            "weighted avg       0.88      0.86      0.87       331\n",
            "\n"
          ]
        },
        {
          "data": {
            "image/png": "[encoded data removed]",
            "text/plain": [
              "<Figure size 640x480 with 2 Axes>"
            ]
          },
          "metadata": {},
          "output_type": "display_data"
        }
      ],
      "source": [
        "#Evaluating the support vector classifer in the test set\n",
        "evaluate_model(svc_tunned_model, X_test_scaled,y_test)"
      ]
    },
    {
      "cell_type": "markdown",
      "metadata": {
        "id": "tyC_Z88L27PV"
      },
      "source": [
        "The result show better improvement of the previous model. This"
      ]
    },
    {
      "cell_type": "markdown",
      "metadata": {
        "id": "o0xloVCT27PV"
      },
      "source": []
    },
    {
      "cell_type": "markdown",
      "metadata": {
        "id": "q65kIxH8D2sp"
      },
      "source": [
        "### WORKING ON THE SECOND TASK\n",
        "Classify whether a subject has cancer based on the classification of the multiple micros per subject.\n",
        "To tackle this part of the project, We aggregate the predictions from the various models and take the average of prediction and if 50% or more of the models predicting the same values for a particular case, then the we out the majority predictions.In this case the prediction is not be only accurate but also stronger since it be been predicted by the majority of the models.d"
      ]
    },
    {
      "cell_type": "markdown",
      "metadata": {
        "id": "bdSaSOn727PV"
      },
      "source": [
        "We get the Patient IDs and Labels from the original dataset  sets aside for the task 2 and combine into a dataFrame"
      ]
    },
    {
      "cell_type": "code",
      "execution_count": null,
      "metadata": {
        "id": "u9_dM1HF27PV"
      },
      "outputs": [],
      "source": [
        "#getting the patient ids and labelled from the original dataset\n",
        "patient_ids = task_2_data['Patient ID']\n",
        "true_labels = task_2_data['Label']\n",
        "\n",
        "#creating a dataframe of the patient id and lables\n",
        "combining_patient_lables = pd.DataFrame({\n",
        "    'patients_id' : patient_ids,\n",
        "    'true_labels' : true_labels\n",
        "})"
      ]
    },
    {
      "cell_type": "markdown",
      "metadata": {
        "id": "aM2N72zA27PW"
      },
      "source": [
        "Predict using each model using the validation set we  set aside for task two"
      ]
    },
    {
      "cell_type": "code",
      "execution_count": null,
      "metadata": {
        "id": "-cW84_ax27PW"
      },
      "outputs": [],
      "source": [
        "#predict on the models\n",
        "svm_preds = svc_tunned_model.predict(X_val_2_scaled )\n",
        "rf_preds = rf_tunned_model.predict(X_val_2_scaled )\n",
        "ada_preds = ada_tunned_model.predict(X_val_2_scaled )"
      ]
    },
    {
      "cell_type": "markdown",
      "metadata": {
        "id": "ZvsqECAP27PW"
      },
      "source": [
        "We combine the predictions from the various models and calcualte the average predictions"
      ]
    },
    {
      "cell_type": "code",
      "execution_count": null,
      "metadata": {
        "id": "ZjduoaAF27PW"
      },
      "outputs": [],
      "source": [
        "#Combine predictions into a DataFrame\n",
        "predictions_df = pd.DataFrame({\n",
        "    'svm_preds' : svm_preds,\n",
        "    'rf_preds' : rf_preds,\n",
        "    'ada_preds' : ada_preds\n",
        "})\n",
        "# Calculating the average of teh predictions\n",
        "predictions_df['average_prediction'] = predictions_df.mean(axis=1)"
      ]
    },
    {
      "cell_type": "markdown",
      "metadata": {
        "id": "nbmvUDcc27PW"
      },
      "source": [
        "we apply Majority rule such that if two of the models predict the same for a particular case, then we then it becomes the final prediction. if we get 50% or more of a particular case say 1 then then 1 becomes the final prediction and vice versa"
      ]
    },
    {
      "cell_type": "code",
      "execution_count": null,
      "metadata": {
        "id": "AdJ6nIHf27PX"
      },
      "outputs": [],
      "source": [
        "#Apply threshold to get final predictions\n",
        "predictions_df['final_models_pred'] = (predictions_df['average_prediction']>=0.5).astype(int)"
      ]
    },
    {
      "cell_type": "markdown",
      "metadata": {
        "id": "ZRbdA0wd27PX"
      },
      "source": [
        "Here we reset index and drop the old index such that we can maintain the originality of the data"
      ]
    },
    {
      "cell_type": "code",
      "execution_count": null,
      "metadata": {
        "id": "mXEyCtNT27PY"
      },
      "outputs": [],
      "source": [
        "#reseting the index and droping the old index\n",
        "predictions_df['patient_id'] = patient_ids.reset_index(drop=True)\n",
        "\n",
        "#reseting the index and droping the old index\n",
        "predictions_df['original_label'] = true_labels.reset_index(drop=True)"
      ]
    },
    {
      "cell_type": "code",
      "execution_count": null,
      "metadata": {
        "id": "Wkymgjnc27PY",
        "outputId": "8799cf0f-a43e-4dce-90f0-a3fb798c333a"
      },
      "outputs": [
        {
          "data": {
            "text/html": [
              "<div>\n",
              "<style scoped>\n",
              "    .dataframe tbody tr th:only-of-type {\n",
              "        vertical-align: middle;\n",
              "    }\n",
              "\n",
              "    .dataframe tbody tr th {\n",
              "        vertical-align: top;\n",
              "    }\n",
              "\n",
              "    .dataframe thead th {\n",
              "        text-align: right;\n",
              "    }\n",
              "</style>\n",
              "<table border=\"1\" class=\"dataframe\">\n",
              "  <thead>\n",
              "    <tr style=\"text-align: right;\">\n",
              "      <th></th>\n",
              "      <th>patient_id</th>\n",
              "      <th>svm_preds</th>\n",
              "      <th>rf_preds</th>\n",
              "      <th>ada_preds</th>\n",
              "      <th>average_prediction</th>\n",
              "      <th>original_label</th>\n",
              "      <th>final_models_pred</th>\n",
              "    </tr>\n",
              "  </thead>\n",
              "  <tbody>\n",
              "    <tr>\n",
              "      <th>0</th>\n",
              "      <td>1</td>\n",
              "      <td>0</td>\n",
              "      <td>0</td>\n",
              "      <td>1</td>\n",
              "      <td>0.333333</td>\n",
              "      <td>0</td>\n",
              "      <td>0</td>\n",
              "    </tr>\n",
              "    <tr>\n",
              "      <th>1</th>\n",
              "      <td>1</td>\n",
              "      <td>0</td>\n",
              "      <td>1</td>\n",
              "      <td>1</td>\n",
              "      <td>0.666667</td>\n",
              "      <td>0</td>\n",
              "      <td>1</td>\n",
              "    </tr>\n",
              "    <tr>\n",
              "      <th>2</th>\n",
              "      <td>1</td>\n",
              "      <td>0</td>\n",
              "      <td>0</td>\n",
              "      <td>0</td>\n",
              "      <td>0.000000</td>\n",
              "      <td>0</td>\n",
              "      <td>0</td>\n",
              "    </tr>\n",
              "    <tr>\n",
              "      <th>3</th>\n",
              "      <td>5</td>\n",
              "      <td>1</td>\n",
              "      <td>1</td>\n",
              "      <td>0</td>\n",
              "      <td>0.666667</td>\n",
              "      <td>0</td>\n",
              "      <td>1</td>\n",
              "    </tr>\n",
              "    <tr>\n",
              "      <th>4</th>\n",
              "      <td>5</td>\n",
              "      <td>1</td>\n",
              "      <td>0</td>\n",
              "      <td>1</td>\n",
              "      <td>0.666667</td>\n",
              "      <td>0</td>\n",
              "      <td>1</td>\n",
              "    </tr>\n",
              "    <tr>\n",
              "      <th>...</th>\n",
              "      <td>...</td>\n",
              "      <td>...</td>\n",
              "      <td>...</td>\n",
              "      <td>...</td>\n",
              "      <td>...</td>\n",
              "      <td>...</td>\n",
              "      <td>...</td>\n",
              "    </tr>\n",
              "    <tr>\n",
              "      <th>283</th>\n",
              "      <td>86</td>\n",
              "      <td>1</td>\n",
              "      <td>1</td>\n",
              "      <td>1</td>\n",
              "      <td>1.000000</td>\n",
              "      <td>1</td>\n",
              "      <td>1</td>\n",
              "    </tr>\n",
              "    <tr>\n",
              "      <th>284</th>\n",
              "      <td>86</td>\n",
              "      <td>1</td>\n",
              "      <td>0</td>\n",
              "      <td>1</td>\n",
              "      <td>0.666667</td>\n",
              "      <td>1</td>\n",
              "      <td>1</td>\n",
              "    </tr>\n",
              "    <tr>\n",
              "      <th>285</th>\n",
              "      <td>86</td>\n",
              "      <td>0</td>\n",
              "      <td>0</td>\n",
              "      <td>0</td>\n",
              "      <td>0.000000</td>\n",
              "      <td>1</td>\n",
              "      <td>0</td>\n",
              "    </tr>\n",
              "    <tr>\n",
              "      <th>286</th>\n",
              "      <td>86</td>\n",
              "      <td>1</td>\n",
              "      <td>1</td>\n",
              "      <td>1</td>\n",
              "      <td>1.000000</td>\n",
              "      <td>1</td>\n",
              "      <td>1</td>\n",
              "    </tr>\n",
              "    <tr>\n",
              "      <th>287</th>\n",
              "      <td>86</td>\n",
              "      <td>1</td>\n",
              "      <td>1</td>\n",
              "      <td>1</td>\n",
              "      <td>1.000000</td>\n",
              "      <td>1</td>\n",
              "      <td>1</td>\n",
              "    </tr>\n",
              "  </tbody>\n",
              "</table>\n",
              "<p>288 rows × 7 columns</p>\n",
              "</div>"
            ],
            "text/plain": [
              "     patient_id  svm_preds  rf_preds  ada_preds  average_prediction  \\\n",
              "0             1          0         0          1            0.333333   \n",
              "1             1          0         1          1            0.666667   \n",
              "2             1          0         0          0            0.000000   \n",
              "3             5          1         1          0            0.666667   \n",
              "4             5          1         0          1            0.666667   \n",
              "..          ...        ...       ...        ...                 ...   \n",
              "283          86          1         1          1            1.000000   \n",
              "284          86          1         0          1            0.666667   \n",
              "285          86          0         0          0            0.000000   \n",
              "286          86          1         1          1            1.000000   \n",
              "287          86          1         1          1            1.000000   \n",
              "\n",
              "     original_label  final_models_pred  \n",
              "0                 0                  0  \n",
              "1                 0                  1  \n",
              "2                 0                  0  \n",
              "3                 0                  1  \n",
              "4                 0                  1  \n",
              "..              ...                ...  \n",
              "283               1                  1  \n",
              "284               1                  1  \n",
              "285               1                  0  \n",
              "286               1                  1  \n",
              "287               1                  1  \n",
              "\n",
              "[288 rows x 7 columns]"
            ]
          },
          "execution_count": 67,
          "metadata": {},
          "output_type": "execute_result"
        }
      ],
      "source": [
        "#Rearrange columns to put 'patient_id' and original label and showing 10 rows\n",
        "predictions_df = predictions_df[['patient_id','svm_preds','rf_preds','ada_preds','average_prediction','original_label','final_models_pred']]\n",
        "predictions_df"
      ]
    },
    {
      "cell_type": "code",
      "execution_count": null,
      "metadata": {
        "id": "ZI5yAHl127PZ",
        "outputId": "2a430170-cc62-46f2-9b95-4af34245242d"
      },
      "outputs": [
        {
          "data": {
            "text/html": [
              "<div>\n",
              "<style scoped>\n",
              "    .dataframe tbody tr th:only-of-type {\n",
              "        vertical-align: middle;\n",
              "    }\n",
              "\n",
              "    .dataframe tbody tr th {\n",
              "        vertical-align: top;\n",
              "    }\n",
              "\n",
              "    .dataframe thead th {\n",
              "        text-align: right;\n",
              "    }\n",
              "</style>\n",
              "<table border=\"1\" class=\"dataframe\">\n",
              "  <thead>\n",
              "    <tr style=\"text-align: right;\">\n",
              "      <th>final_models_pred</th>\n",
              "      <th>0</th>\n",
              "      <th>1</th>\n",
              "    </tr>\n",
              "    <tr>\n",
              "      <th>patient_id</th>\n",
              "      <th></th>\n",
              "      <th></th>\n",
              "    </tr>\n",
              "  </thead>\n",
              "  <tbody>\n",
              "    <tr>\n",
              "      <th>1</th>\n",
              "      <td>2</td>\n",
              "      <td>1</td>\n",
              "    </tr>\n",
              "    <tr>\n",
              "      <th>5</th>\n",
              "      <td>46</td>\n",
              "      <td>31</td>\n",
              "    </tr>\n",
              "    <tr>\n",
              "      <th>12</th>\n",
              "      <td>32</td>\n",
              "      <td>22</td>\n",
              "    </tr>\n",
              "    <tr>\n",
              "      <th>32</th>\n",
              "      <td>17</td>\n",
              "      <td>7</td>\n",
              "    </tr>\n",
              "    <tr>\n",
              "      <th>43</th>\n",
              "      <td>7</td>\n",
              "      <td>6</td>\n",
              "    </tr>\n",
              "    <tr>\n",
              "      <th>46</th>\n",
              "      <td>12</td>\n",
              "      <td>14</td>\n",
              "    </tr>\n",
              "    <tr>\n",
              "      <th>70</th>\n",
              "      <td>37</td>\n",
              "      <td>25</td>\n",
              "    </tr>\n",
              "    <tr>\n",
              "      <th>86</th>\n",
              "      <td>14</td>\n",
              "      <td>15</td>\n",
              "    </tr>\n",
              "  </tbody>\n",
              "</table>\n",
              "</div>"
            ],
            "text/plain": [
              "final_models_pred   0   1\n",
              "patient_id               \n",
              "1                   2   1\n",
              "5                  46  31\n",
              "12                 32  22\n",
              "32                 17   7\n",
              "43                  7   6\n",
              "46                 12  14\n",
              "70                 37  25\n",
              "86                 14  15"
            ]
          },
          "execution_count": 68,
          "metadata": {},
          "output_type": "execute_result"
        }
      ],
      "source": [
        "#Grouping and counting individual predictions\n",
        "count_df = predictions_df.groupby('patient_id')['final_models_pred'].value_counts().unstack(fill_value=0)\n",
        "count_df"
      ]
    },
    {
      "cell_type": "code",
      "execution_count": null,
      "metadata": {
        "id": "hu9UbN4r27PZ",
        "outputId": "cf2a333b-1bdc-4c27-b42a-2689a74c9e77"
      },
      "outputs": [
        {
          "data": {
            "text/html": [
              "<div>\n",
              "<style scoped>\n",
              "    .dataframe tbody tr th:only-of-type {\n",
              "        vertical-align: middle;\n",
              "    }\n",
              "\n",
              "    .dataframe tbody tr th {\n",
              "        vertical-align: top;\n",
              "    }\n",
              "\n",
              "    .dataframe thead th {\n",
              "        text-align: right;\n",
              "    }\n",
              "</style>\n",
              "<table border=\"1\" class=\"dataframe\">\n",
              "  <thead>\n",
              "    <tr style=\"text-align: right;\">\n",
              "      <th>final_models_pred</th>\n",
              "      <th>0</th>\n",
              "      <th>1</th>\n",
              "      <th>percentage_of_ones</th>\n",
              "      <th>final_prediction</th>\n",
              "    </tr>\n",
              "    <tr>\n",
              "      <th>patient_id</th>\n",
              "      <th></th>\n",
              "      <th></th>\n",
              "      <th></th>\n",
              "      <th></th>\n",
              "    </tr>\n",
              "  </thead>\n",
              "  <tbody>\n",
              "    <tr>\n",
              "      <th>1</th>\n",
              "      <td>2</td>\n",
              "      <td>1</td>\n",
              "      <td>33.333333</td>\n",
              "      <td>0</td>\n",
              "    </tr>\n",
              "    <tr>\n",
              "      <th>5</th>\n",
              "      <td>46</td>\n",
              "      <td>31</td>\n",
              "      <td>40.259740</td>\n",
              "      <td>0</td>\n",
              "    </tr>\n",
              "    <tr>\n",
              "      <th>12</th>\n",
              "      <td>32</td>\n",
              "      <td>22</td>\n",
              "      <td>40.740741</td>\n",
              "      <td>0</td>\n",
              "    </tr>\n",
              "    <tr>\n",
              "      <th>32</th>\n",
              "      <td>17</td>\n",
              "      <td>7</td>\n",
              "      <td>29.166667</td>\n",
              "      <td>0</td>\n",
              "    </tr>\n",
              "    <tr>\n",
              "      <th>43</th>\n",
              "      <td>7</td>\n",
              "      <td>6</td>\n",
              "      <td>46.153846</td>\n",
              "      <td>0</td>\n",
              "    </tr>\n",
              "    <tr>\n",
              "      <th>46</th>\n",
              "      <td>12</td>\n",
              "      <td>14</td>\n",
              "      <td>53.846154</td>\n",
              "      <td>0</td>\n",
              "    </tr>\n",
              "    <tr>\n",
              "      <th>70</th>\n",
              "      <td>37</td>\n",
              "      <td>25</td>\n",
              "      <td>40.322581</td>\n",
              "      <td>0</td>\n",
              "    </tr>\n",
              "    <tr>\n",
              "      <th>86</th>\n",
              "      <td>14</td>\n",
              "      <td>15</td>\n",
              "      <td>51.724138</td>\n",
              "      <td>0</td>\n",
              "    </tr>\n",
              "  </tbody>\n",
              "</table>\n",
              "</div>"
            ],
            "text/plain": [
              "final_models_pred   0   1  percentage_of_ones  final_prediction\n",
              "patient_id                                                     \n",
              "1                   2   1           33.333333                 0\n",
              "5                  46  31           40.259740                 0\n",
              "12                 32  22           40.740741                 0\n",
              "32                 17   7           29.166667                 0\n",
              "43                  7   6           46.153846                 0\n",
              "46                 12  14           53.846154                 0\n",
              "70                 37  25           40.322581                 0\n",
              "86                 14  15           51.724138                 0"
            ]
          },
          "execution_count": 69,
          "metadata": {},
          "output_type": "execute_result"
        }
      ],
      "source": [
        "#Calculate the percentage of 1 and preditions for each patient\n",
        "count_df['percentage_of_ones'] = (count_df[1]/(count_df[0]+count_df[1])) * 100\n",
        "\n",
        "#Final prediction base  on a threshold criteria\n",
        "threshold = 60\n",
        "count_df['final_prediction'] = (count_df['percentage_of_ones']>= threshold).astype(int)\n",
        "\n",
        "count_df"
      ]
    },
    {
      "cell_type": "markdown",
      "metadata": {
        "id": "gvnUqtdR27Pa"
      },
      "source": [
        "So in the end we set a threshold 60% and get the final prediction for a each patient. In this case the model"
      ]
    },
    {
      "cell_type": "markdown",
      "metadata": {
        "id": "O-yPx7zeLRk_"
      },
      "source": [
        "References"
      ]
    },
    {
      "cell_type": "markdown",
      "metadata": {
        "id": "P0sIRs3027Pa"
      },
      "source": [
        "1. Saito, T., & Rehmsmeier, M. (2015). The precision-recall plot is more informative than the ROC plot when evaluating binary classifiers on imbalanced datasets. PloS one, 10(3), e0118432.\n",
        "2. https://neptune.ai/blog/f1-score-accuracy-roc-auc-pr-auc\n",
        "3. Brahimetaj, R., Willekens, I., Massart, A., Forsyth, R., Cornelis, J., Mey, J. D., & Jansen, B. (2022). Improved automated early detection of breast cancer based on high resolution 3D micro-CT microcalcification images. BMC cancer, 22(1), 162.\n",
        "4. https://dataheadhunters.com/academy/scaling-and-normalization-preparing-data-for-analysis/\n",
        "5. https://www.perplexity.ai/search/why-use-grid-NIHglADxSgWuZ0y7Jrsilg|\n",
        "6. Machine Learning for Absolute Beginners(Third Edition) - Oliver Theobald\n",
        "7. https://docs.aws.amazon.com/machine-learning/latest/dg/binary-model-insights.html"
      ]
    },
    {
      "cell_type": "markdown",
      "metadata": {
        "id": "yvqzcDas27Pa"
      },
      "source": []
    }
  ],
  "metadata": {
    "colab": {
      "provenance": [],
      "include_colab_link": true
    },
    "kernelspec": {
      "display_name": "Python 3 (ipykernel)",
      "language": "python",
      "name": "python3"
    },
    "language_info": {
      "codemirror_mode": {
        "name": "ipython",
        "version": 3
      },
      "file_extension": ".py",
      "mimetype": "text/x-python",
      "name": "python",
      "nbconvert_exporter": "python",
      "pygments_lexer": "ipython3",
      "version": "3.11.5"
    }
  },
  "nbformat": 4,
  "nbformat_minor": 0
}